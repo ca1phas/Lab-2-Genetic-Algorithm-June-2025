{
 "cells": [
  {
   "cell_type": "markdown",
   "id": "19195cbc",
   "metadata": {},
   "source": [
    "# Artificial Intelligence\n",
    "## UEMH3073 / UECS2053 / UECS2153\n",
    "\n",
    "# Lab 2: Genetic Algorithm"
   ]
  },
  {
   "cell_type": "markdown",
   "id": "357d953f",
   "metadata": {},
   "source": [
    "This notebook is an assignment requiring you to investigate the Travelling Salesman Problem. Guidance is provided so you can understand what needs to be done for this assignment as you follow through this lab. Convenience classes and functions/ methods are provided.\n",
    "\n",
    "You will encounter #TODO in the code cells explaining tasks you need to complete. In other words, you will need to write codes and accomplish the #TODO tasks so that the genetic algorithm functions well and runs correctly. Look for \"Replacement starts here\" and \"Replacement ends here\" to know the parts of the codes requiring your inputs.\n",
    "    \n",
    "\n",
    "The #TODO tasks and their marks distribution are as follows:\n",
    " \n",
    "a. #TODO1 (10 marks) in the Population Initialization function. You will read a set of cities from the filename when creating an initial population. \n",
    "\n",
    "b. #TODO2 (10 marks) in the Parent Selection function. You will replace a dummy parent selection function with Tournament Selection. \n",
    "\n",
    "c. #TODO3 (10 marks) in the Parent Selection function. You will replace a dummy parent selection function with Proportional Selection.\n",
    "\n",
    "d. #TODO4 (10 marks) in the Survival Selection function. You will replace the dummy survival selection function with Merge, Sort & Truncate. \n",
    "    \n",
    "e. #TODO5 (10 marks) in the Crossover function. You will replace the dummy crossover function the Partially Mapped Crossover approach.\n",
    "\n",
    "f. #TODO6 (10 marks) in the Mutation function. You will replace the dummy mutation function with Insertion Mutation approach. \n",
    "\n",
    "g. #TODO7 (10 marks) in Performance Evaluation. You will present performance evaluation for the different Parent Selection functions. \n",
    "\n",
    "Marks are also given for: Report Presentation and Formatting (15%) and Code Quality and Comments (15%). More details about this notebook and assignment are provided in your lab sheet."
   ]
  },
  {
   "cell_type": "markdown",
   "id": "3a397f6c",
   "metadata": {},
   "source": [
    "## An Overview of the Travelling Salesman Problem"
   ]
  },
  {
   "cell_type": "markdown",
   "id": "770d5880",
   "metadata": {},
   "source": [
    "In the travelling salesman problem, a salesperson wish to find the shortest path that passes through all cities s/he wishes to visit given the coordinates of a set of cities. The salesperson should visit each of the cities once only, and so:\n",
    "\n",
    "a. Each path consists all cities in the set.\n",
    "\n",
    "b. Each path visits each of the cities once only. So, none of the cities are visited more than once. "
   ]
  },
  {
   "cell_type": "markdown",
   "id": "0d5d37c8",
   "metadata": {},
   "source": [
    "## Imports"
   ]
  },
  {
   "cell_type": "code",
   "execution_count": 21,
   "id": "86227049",
   "metadata": {},
   "outputs": [],
   "source": [
    "%matplotlib inline\n",
    "\n",
    "# Please add more imports if you need them \n",
    "\n",
    "import random\n",
    "import time\n",
    "import csv\n",
    "\n",
    "import numpy as np\n",
    "import pandas as pd\n",
    "import matplotlib.pyplot as plt\n",
    "\n",
    "from pprint import pprint as print "
   ]
  },
  {
   "cell_type": "markdown",
   "id": "420ef0f6",
   "metadata": {},
   "source": [
    "## Convenience Classes"
   ]
  },
  {
   "cell_type": "markdown",
   "id": "c8335dc9",
   "metadata": {},
   "source": [
    "### City"
   ]
  },
  {
   "cell_type": "markdown",
   "id": "793d7c06",
   "metadata": {},
   "source": [
    "The City class, which represents a city, possesses the properties of the city and has functions/ methods used for calculating the distance between the city and another city. Each path, represented by a chromosome, is formed by a set of cities.   "
   ]
  },
  {
   "cell_type": "code",
   "execution_count": 22,
   "id": "6a3d4ad0",
   "metadata": {},
   "outputs": [],
   "source": [
    "class City:\n",
    "    def __init__(self, x, y):\n",
    "        self.x = x\n",
    "        self.y = y\n",
    "        \n",
    "    def distance(self, city):\n",
    "        xDis = abs(self.x - city.x)\n",
    "        yDis = abs(self.y - city.y)\n",
    "        distance = np.sqrt((xDis ** 2) + (yDis ** 2))\n",
    "        return distance\n",
    "    \n",
    "    def __repr__(self):\n",
    "        return \"(\" + str(self.x) + \",\" + str(self.y) + \")\""
   ]
  },
  {
   "cell_type": "markdown",
   "id": "17c39cd9",
   "metadata": {},
   "source": [
    "### Fitness"
   ]
  },
  {
   "cell_type": "markdown",
   "id": "d1337f65",
   "metadata": {},
   "source": [
    "The Fitness class, which represents the fitness function, possesses the properties of a path and has functions/methods used for calculating the fitness value of the path, which is based on the distance of the path. "
   ]
  },
  {
   "cell_type": "code",
   "execution_count": 23,
   "id": "b9eca58a",
   "metadata": {},
   "outputs": [],
   "source": [
    "class Fitness:\n",
    "    def __init__(self, route):\n",
    "        self.route = route\n",
    "        self.distance = None\n",
    "        self.fitness = None\n",
    "    \n",
    "    def routeDistance(self):\n",
    "        if self.distance == None:\n",
    "            pathDistance = 0.0\n",
    "            for i in range(0, len(self.route)):\n",
    "                fromCity = self.route[i]\n",
    "                toCity = None\n",
    "                if i+1 < len(self.route):\n",
    "                    toCity = self.route[i+1]\n",
    "                else:\n",
    "                    toCity = self.route[0]\n",
    "                pathDistance += fromCity.distance(toCity)\n",
    "            self.distance = pathDistance\n",
    "        return self.distance\n",
    "    \n",
    "    def routeFitness(self):\n",
    "        if self.fitness == None:\n",
    "        # Fitness function (Simple division) that uses a simple \n",
    "        # division that divides one by the distance of the path\n",
    "            self.fitness = 1 / float(self.routeDistance()) \n",
    "            # Note: You must ensure a division by zero does not occur \n",
    "        return self.fitness\n"
   ]
  },
  {
   "cell_type": "markdown",
   "id": "e9ecd81d",
   "metadata": {},
   "source": [
    "## Population Initialization  "
   ]
  },
  {
   "cell_type": "markdown",
   "id": "02544afb",
   "metadata": {},
   "source": [
    "The population initialization function (or method) performs random initialization. This creates an initial population with completely random chromosomes (or solutions). There are three functions related to population initialization. \n",
    "\n",
    "The first function is genCityList() which generates a set of cities from a file.  "
   ]
  },
  {
   "cell_type": "code",
   "execution_count": 24,
   "id": "9d39ed7e",
   "metadata": {},
   "outputs": [],
   "source": [
    "def genCityList(filename):\n",
    "    cityList = []\n",
    "    \n",
    "    # TODO 1 (10 marks) - Replace the following codes that generate 10 random cities.\n",
    "    # Your new implementation must read a set of cities from the filename to be used for creating \n",
    "    # an initial population.  \n",
    "    \n",
    "    # Marking scheme: \n",
    "    # 7 to 10 marks:  Correct implementation. \n",
    "    # 5 to <7 marks:  Minor errors with slight effects on the fitness value.\n",
    "    # >0 to <5 marks: Major errors with significant effects on the fitness value. \n",
    "    # 0 marks:        No answer is given. \n",
    "    \n",
    "    # Replacement starts here (DONE)\n",
    "    # Ask: return list[City]?\n",
    "    \n",
    "    # Read cities from CSV file into a DataFrame\n",
    "    citiesDF = pd.read_csv(filename)\n",
    "\n",
    "    # Create a list of City objects from the X, Y columns\n",
    "    cityList = [City(X, Y) for _, X, Y in citiesDF.itertuples(index=False)]\n",
    "    \n",
    "    # Replacement ends here\n",
    "    \n",
    "    return cityList\n",
    "\n"
   ]
  },
  {
   "cell_type": "markdown",
   "id": "e4888778",
   "metadata": {},
   "source": [
    "The second function is createRoute() which generates a random route (chromosome) from a set of City instances."
   ]
  },
  {
   "cell_type": "code",
   "execution_count": 25,
   "id": "1f9ac614",
   "metadata": {},
   "outputs": [],
   "source": [
    "def createRoute(cityList):\n",
    "    route = random.sample(cityList, len(cityList))\n",
    "    return route"
   ]
  },
  {
   "cell_type": "markdown",
   "id": "f0c11bbb",
   "metadata": {},
   "source": [
    "The third function is initialPopulation() which calls the second function repeatedly to create an initial population (a list of routes)."
   ]
  },
  {
   "cell_type": "code",
   "execution_count": 26,
   "id": "4ae07df2",
   "metadata": {},
   "outputs": [],
   "source": [
    "def initialPopulation(popSize, cityList):\n",
    "    population = []\n",
    "    for i in range(0, popSize):\n",
    "        population.append(createRoute(cityList))\n",
    "    return population"
   ]
  },
  {
   "cell_type": "markdown",
   "id": "ed5c9a1d",
   "metadata": {},
   "source": [
    "You can run the above functions using the sample runs below. To do so, simply change the cell type from Markdown to Code.\n",
    "\n",
    "Sample run 1 initializes 10 cities in cityList as follows:"
   ]
  },
  {
   "cell_type": "markdown",
   "id": "dbce56f2",
   "metadata": {},
   "source": [
    "cityList = genCityList('cities10.txt') \n",
    "print(cityList)"
   ]
  },
  {
   "cell_type": "markdown",
   "id": "00b4e341",
   "metadata": {},
   "source": [
    "Sample run 2 initializes 10 cities in cityList and creates a population with three routes as follows:"
   ]
  },
  {
   "cell_type": "markdown",
   "id": "e7f8538a",
   "metadata": {},
   "source": [
    "cityList = genCityList('cities10.txt') \n",
    "population = initialPopulation(3, cityList) \n",
    "print(population)"
   ]
  },
  {
   "cell_type": "markdown",
   "id": "f8aac59f",
   "metadata": {},
   "source": [
    "## Selection"
   ]
  },
  {
   "cell_type": "markdown",
   "id": "cb5cfd2d",
   "metadata": {},
   "source": [
    "Parents selection selects chromosomes with high fitness values from a population. Survivor selection selects chromosomes with higher fitness values to form the population of the next generation. The population size is len(population), so we have len(population) in this population. "
   ]
  },
  {
   "cell_type": "markdown",
   "id": "91040238",
   "metadata": {},
   "source": [
    "### Parent Selection\n",
    "\n",
    "There are three implementations for parent selection. The first parentSelection() performs random selection."
   ]
  },
  {
   "cell_type": "code",
   "execution_count": 27,
   "id": "3add27f7",
   "metadata": {},
   "outputs": [],
   "source": [
    "def parentSelection(population, poolSize=None):\n",
    "    if poolSize == None:\n",
    "        poolSize = len(population)\n",
    "        \n",
    "    matingPool = []\n",
    "    \n",
    "    for i in range(0, poolSize):\n",
    "        fitness = Fitness(population[i]).routeFitness()\n",
    "        matingPool.append(random.choice(population))\n",
    "      \n",
    "    return matingPool"
   ]
  },
  {
   "cell_type": "markdown",
   "id": "7d7aedb6",
   "metadata": {},
   "source": [
    "The second parentSelection() performs Tournament Selection."
   ]
  },
  {
   "cell_type": "code",
   "execution_count": 28,
   "id": "53e6ed39",
   "metadata": {
    "tags": [
     "parameters"
    ]
   },
   "outputs": [],
   "source": [
    "def parentSelection(population, poolSize=None):\n",
    "\n",
    "    # TODO 2 (10 marks) - Replace the dummy parent selection function below with\n",
    "    # Tournament Selection.\n",
    "\n",
    "    # Marking scheme:\n",
    "    # 7 to 10 marks:  Correct implementation.\n",
    "    # 5 to <7 marks:  Minor errors.\n",
    "    # >0 to <5 marks: Major errors.\n",
    "    # 0 marks:        No answer is given.\n",
    "\n",
    "    # You will need to compare the performance achieved by Random Selection,\n",
    "    # Tournament Selection, and Proportional Selection during performance evaluation\n",
    "    # later. So, you will run either Random Selection, Tournament Selection, or\n",
    "    # Proportional Selection in a simulation run.\n",
    "\n",
    "    if poolSize == None:\n",
    "        poolSize = len(population)\n",
    "\n",
    "    matingPool = []\n",
    "\n",
    "    # Replacement starts here (DONE)\n",
    "    # Ask: Select own Tournament size?\n",
    "    # Ask: poolSize = population size?\n",
    "    # Perform tournament selection with fixed tournament size of 3\n",
    "    tournament_size = 3\n",
    "\n",
    "    # For each selection, randomly pick tournament_size individuals and select the best (highest fitness)\n",
    "    for _ in range(poolSize):\n",
    "        # randomly pick tournament_size individuals\n",
    "        routes = random.sample(population, tournament_size)\n",
    "\n",
    "        # select the best (highest fitness)\n",
    "        winner = max(routes, key=lambda route: Fitness(route).routeFitness())\n",
    "        matingPool.append(winner)\n",
    "    \n",
    "    # Replacement ends here\n",
    "\n",
    "    return matingPool"
   ]
  },
  {
   "cell_type": "markdown",
   "id": "4bb238e2",
   "metadata": {},
   "source": [
    "The third parentSelection() performs Proportional Selection."
   ]
  },
  {
   "cell_type": "code",
   "execution_count": 29,
   "id": "2ccaef4a",
   "metadata": {},
   "outputs": [],
   "source": [
    "def parentSelection(population, poolSize=None):\n",
    "    \n",
    "    # TODO 3 (10 marks) - Replace the dummy parent selection function below with  \n",
    "    # Proportional Selection.\n",
    "      \n",
    "    # Marking scheme: \n",
    "    # 7 to 10 marks:  Correct implementation. \n",
    "    # 5 to <7 marks:  Minor errors.\n",
    "    # >0 to <5 marks: Major errors. \n",
    "    # 0 marks:        No answer is given. \n",
    "    \n",
    "    # You will need to compare the performance achieved by Random Selection, \n",
    "    # Tournament Selection, and Proportional Selection during performance evaluation \n",
    "    # later. So, you will run either Random Selection, Tournament Selection, or \n",
    "    # Proportional Selection in a simulation run.\n",
    "    \n",
    "    if poolSize == None:\n",
    "        poolSize = len(population)\n",
    "        \n",
    "    matingPool = []\n",
    "    \n",
    "    # Replacement starts here (DONE)\n",
    "    # Ask: = Fitness-proportional selection? \n",
    "\n",
    "    # Calculate total fitness of the population\n",
    "    total_fitness = sum([Fitness(route).routeFitness() for route in population])\n",
    "\n",
    "    # If total fitness is zero, select randomly to avoid division by zero\n",
    "    if (total_fitness == 0):\n",
    "        return random.choices(population, k=poolSize)\n",
    "    \n",
    "    # For each selection, pick a random number and select route based on cumulative fitness\n",
    "    for _ in range(poolSize):\n",
    "        # pick a random number\n",
    "        r = random.uniform(0, total_fitness)\n",
    "        \n",
    "        # select route based on cumulative fitness\n",
    "        cum_sum = 0\n",
    "        for i, route in enumerate(population):\n",
    "            cum_sum += Fitness(route).routeFitness()\n",
    "            if cum_sum >= r:\n",
    "                matingPool.append(route)\n",
    "                break\n",
    "    \n",
    "    # Replacement ends here\n",
    "    \n",
    "    return matingPool"
   ]
  },
  {
   "cell_type": "markdown",
   "id": "767df4e1",
   "metadata": {},
   "source": [
    "### Survival Selection"
   ]
  },
  {
   "cell_type": "code",
   "execution_count": 30,
   "id": "80f74e5a",
   "metadata": {},
   "outputs": [],
   "source": [
    "def survivorSelection(population, eliteSize):\n",
    "\n",
    "    # TODO 4 (10 marks) - Replace the dummy survival selection function below with\n",
    "    # Merge, Sort & Truncate.\n",
    "\n",
    "    # Marking scheme:\n",
    "    # 7 to 10 marks:  Correct implementation.\n",
    "    # 5 to <7 marks:  Minor errors.\n",
    "    # >0 to <5 marks: Major errors.\n",
    "    # 0 marks:        No answer is given.\n",
    "\n",
    "    elites = []\n",
    "\n",
    "    # Replacement starts here (DONE)\n",
    "    # Ask: return size is eliteSize\n",
    "\n",
    "    # Sort population by fitness in descending order\n",
    "    sorted_population = sorted(population, key=lambda route: Fitness(route).routeFitness(), reverse=True)\n",
    "\n",
    "    # Select the top eliteSize individuals as elites\n",
    "    elites = sorted_population[:eliteSize]\n",
    "    \n",
    "    # Replacement ends here\n",
    "\n",
    "    return elites"
   ]
  },
  {
   "cell_type": "markdown",
   "id": "c003d631",
   "metadata": {},
   "source": [
    "You can run the above functions using the sample runs below. To do so, simply change the cell type from Markdown to Code. \n",
    "\n",
    "Sample run 1 initializes 10 cities in cityList, creates a population with four routes, and creates a pool of parents as follows:"
   ]
  },
  {
   "cell_type": "markdown",
   "id": "cb064cc7",
   "metadata": {},
   "source": [
    "population = initialPopulation(4, genCityList('cities10.txt'))\n",
    "matingpool = parentSelection(population, 4) \n",
    "print('Initial population') \n",
    "print(population) \n",
    "print('Mating pool') \n",
    "print(matingpool)"
   ]
  },
  {
   "cell_type": "markdown",
   "id": "c4431342",
   "metadata": {},
   "source": [
    "Sample run 2 initializes 10 cities in cityList, creates a population with four routes, select an elite chromosome as follows:"
   ]
  },
  {
   "cell_type": "markdown",
   "id": "d5a0593b",
   "metadata": {},
   "source": [
    "population = initialPopulation(4, genCityList('cities10.txt'))\n",
    "elites = survivorSelection(population, 1)\n",
    "print('Initial population')\n",
    "print(population)\n",
    "print('Selected elites')\n",
    "print(elites)"
   ]
  },
  {
   "cell_type": "code",
   "execution_count": 31,
   "id": "2bb0c8be",
   "metadata": {},
   "outputs": [],
   "source": [
    "def crossover(parent1, parent2):\n",
    "\n",
    "    # TODO 5 (10 marks) - Replace the dummy crossover function below with\n",
    "    # Partially Mapped Crossover approach.\n",
    "\n",
    "    # Marking scheme:\n",
    "    # 7 to 10 marks:  Correct implementation.\n",
    "    # 5 to <7 marks:  Minor errors.\n",
    "    # >0 to <5 marks: Major errors.\n",
    "    # 0 marks:        No answer is given.\n",
    "\n",
    "    # Replacement starts here (DONE)\n",
    "    size = len(parent1)\n",
    "\n",
    "    # Initialize children\n",
    "    child1 = [None] * size\n",
    "    child2 = [None] * size\n",
    "\n",
    "    # Select two crossover points\n",
    "    cx_point1, cx_point2 = sorted(random.sample(range(size+1), 2))\n",
    "\n",
    "    # Copy the crossover slice from parents to children\n",
    "    child1[cx_point1 : cx_point2] = parent1[cx_point1 : cx_point2]\n",
    "    child2[cx_point1 : cx_point2] = parent2[cx_point1 : cx_point2]\n",
    "\n",
    "    def fill_child(child, parent_a, parent_b):\n",
    "        # Fill the rest of the child with genes from parent_b\n",
    "        for i in (*range(0, cx_point1), *range(cx_point2, size)):\n",
    "            gene = parent_b[i]\n",
    "            \n",
    "            # Map genes to avoid duplicates based on the crossover segment in parent_a\n",
    "            while gene in parent_a[cx_point1:cx_point2]:\n",
    "                gene = parent_b[parent_a.index(gene)]\n",
    "            \n",
    "            child[i] = gene\n",
    "        return child\n",
    "\n",
    "    # Complete children by filling in remaining genes\n",
    "    child1 = fill_child(child1, parent1, parent2)\n",
    "    child2 = fill_child(child2, parent2, parent1)\n",
    "\n",
    "    # Replacement ends here\n",
    "\n",
    "    return child1, child2"
   ]
  },
  {
   "cell_type": "markdown",
   "id": "ebba82a2",
   "metadata": {},
   "source": [
    "## Crossover\n"
   ]
  },
  {
   "cell_type": "markdown",
   "id": "3c655d11",
   "metadata": {},
   "source": [
    "Crossover selects two parents, crossover the genetic materials of the parents, and produce one or more children. In the Travelling Salesman Problem, each travelling path must be valid. Each path consists all cities in the set, and each path visits each of the cities once only. So, none of the cities are visited more than once. Exchanging parts of two chromosomes tend to produce invalid paths. As an example, Parent 1 is [2 1 0 7 3 5 4 6] and Parent 2 is [6 1 0 5 2 3 4 7]. One point crossover at midpoint generates Child 1 [2 1 0 7 2 3 4 7] and Child 2 [6 1 0 5 3 5 4 6]. Both children are invalid paths.     "
   ]
  },
  {
   "cell_type": "markdown",
   "id": "48ca735c",
   "metadata": {},
   "source": [
    "Crossover selects two parents from the mating pool to produce a new generation of the same size."
   ]
  },
  {
   "cell_type": "code",
   "execution_count": 32,
   "id": "308e4680",
   "metadata": {},
   "outputs": [],
   "source": [
    "def breedPopulation(matingpool):\n",
    "    children = []\n",
    "    \n",
    "    # Choosing parents in their order of presence in the mating pool. Choosing parents\n",
    "    # in a random manner is possible. \n",
    "    \n",
    "    for i in range(1, len(matingpool), 2):\n",
    "        child1, child2 = crossover(matingpool[i-1], matingpool[i])\n",
    "        children.append(child1)\n",
    "        children.append(child2)\n",
    "    \n",
    "    return children"
   ]
  },
  {
   "cell_type": "markdown",
   "id": "2152fd9e",
   "metadata": {},
   "source": [
    "You can run the above functions using the sample run below. To do so, simply change the cell type from Markdown to Code. The sample run initializes 2 chromosomes in the population, and performs crossover among the two parents. "
   ]
  },
  {
   "cell_type": "markdown",
   "id": "7b02b58d",
   "metadata": {},
   "source": [
    "population = initialPopulation(2, genCityList('cities10.txt'))\n",
    "parent1, parent2 = population\n",
    "child1, child2 = crossover(parent1, parent2)\n",
    "print('Parents')\n",
    "print(parent1)\n",
    "print(parent2)\n",
    "print('Children')\n",
    "print(child1)\n",
    "print(child2)"
   ]
  },
  {
   "cell_type": "markdown",
   "id": "0508e984",
   "metadata": {},
   "source": [
    "## Mutation"
   ]
  },
  {
   "cell_type": "markdown",
   "id": "e741bcba",
   "metadata": {},
   "source": [
    "Mutation mutates a single chromosome to get a mutated chromosome so that genetic algorithm can converge to a shorter path quickly. In the Travelling Salesman Problem, a mutated chromosome must be a valid path. As an example, the insertion mutation randomly inserts a single gene in the [1 2 3 4 5 6 7 8 9 10] chromosome to generate the [1 2 4 5 6 7 3 8 9 10] mutated chromosome. Step 1: select a gene randomly, Step 2: insert this gene into a randomly selected location."
   ]
  },
  {
   "cell_type": "code",
   "execution_count": 33,
   "id": "fcc4c53b",
   "metadata": {},
   "outputs": [],
   "source": [
    "def mutate(route, mutationProbability):\n",
    "    \n",
    "    # TODO 6 (10 marks) - Replace the dummy mutation function below with Insertion Mutation.\n",
    "    # The dummy mutation function simply swaps a city with the city before it.  \n",
    "   \n",
    "    # Marking scheme: \n",
    "    # 7 to 10 marks:  Correct implementation. \n",
    "    # 5 to <7 marks:  Minor errors.\n",
    "    # >0 to <5 marks: Major errors. \n",
    "    # 0 marks:        No answer is given. \n",
    "     \n",
    "    mutated_route = route[:]\n",
    "    for i in range(len(route)):\n",
    "        if (random.random() < mutationProbability):\n",
    "            # mutationProbability is the probability of a gene undergoing mutation\n",
    "            \n",
    "            # Replacement starts here (DONE)\n",
    "\n",
    "            # Remove the city at index i\n",
    "            city = mutated_route.pop(i)\n",
    "\n",
    "            # Re-insert it at a random position in the route\n",
    "            insert_index = random.randint(0, len(mutated_route))\n",
    "            mutated_route.insert(insert_index, city)\n",
    "            \n",
    "            # Replacement ends here\n",
    "    return mutated_route"
   ]
  },
  {
   "cell_type": "markdown",
   "id": "561658a7",
   "metadata": {},
   "source": [
    "Mutation runs over the entire population and mutates each chromosome in the population with a small mutationProbability. "
   ]
  },
  {
   "cell_type": "code",
   "execution_count": 34,
   "id": "18bcf873",
   "metadata": {},
   "outputs": [],
   "source": [
    "def mutation(population, mutationProbability):\n",
    "    mutatedPopulation = []\n",
    "    for i in range(0, len(population)):\n",
    "        mutatedIndividual = mutate(population[i], mutationProbability)\n",
    "        mutatedPopulation.append(mutatedIndividual)\n",
    "    return mutatedPopulation"
   ]
  },
  {
   "cell_type": "markdown",
   "id": "e2c7728f",
   "metadata": {},
   "source": [
    "You can run the above functions using the sample run below. To do so, simply change the cell type from Markdown to Code. The sample run initializes a route comprised of 10 cities in cityList, and then mutates it as follows:"
   ]
  },
  {
   "cell_type": "markdown",
   "id": "4b9fa051",
   "metadata": {},
   "source": [
    "route = genCityList('cities10.txt')\n",
    "mutated = mutate(route, 1)  # Give a pretty high chance for mutation\n",
    "print('Original route')\n",
    "print(route)\n",
    "print('Mutated route')\n",
    "print(mutated)"
   ]
  },
  {
   "cell_type": "markdown",
   "id": "1c0cf960",
   "metadata": {},
   "source": [
    "## Running One Generation (or Iteration)"
   ]
  },
  {
   "cell_type": "markdown",
   "id": "2e4e26f5",
   "metadata": {},
   "source": [
    "Here, we run one generation of genetic algorithm. "
   ]
  },
  {
   "cell_type": "code",
   "execution_count": 35,
   "id": "57f76661",
   "metadata": {},
   "outputs": [],
   "source": [
    "def oneGeneration(population, eliteSize, mutationProbability):\n",
    "    \n",
    "    # First we preserve the elites\n",
    "    elites = survivorSelection(population, eliteSize)\n",
    "    \n",
    "    # Then we calculate what our mating pool size should be and generate\n",
    "    # the mating pool\n",
    "    poolSize = len(population) - eliteSize\n",
    "    matingpool = parentSelection(population, poolSize)\n",
    "        \n",
    "    # Then we perform crossover on the mating pool\n",
    "    children = breedPopulation(matingpool)\n",
    "    \n",
    "    # We combine the elites and children into one population\n",
    "    new_population = elites + children\n",
    "    \n",
    "    # We mutate the population\n",
    "    mutated_population = mutation(new_population, mutationProbability)\n",
    "        \n",
    "    return mutated_population"
   ]
  },
  {
   "cell_type": "markdown",
   "id": "daa87ed8",
   "metadata": {},
   "source": [
    "You can run the above functions using the sample run below. To do so, simply change the cell type from Markdown to Code. The sample run initializes a population comprised of 5 chromosomes based on 10 cities in cityList, and then run one generation (or iteration) of genetic algorithm as follows:"
   ]
  },
  {
   "cell_type": "markdown",
   "id": "0f2a347b",
   "metadata": {},
   "source": [
    "population = initialPopulation(5, genCityList('cities10.txt'))\n",
    "eliteSize = 1\n",
    "mutationProbability = 0.01\n",
    "new_population = oneGeneration(population, eliteSize, mutationProbability)\n",
    "print('Initial population')\n",
    "print(population)\n",
    "print('New population')\n",
    "print(new_population)"
   ]
  },
  {
   "cell_type": "markdown",
   "id": "500893f7",
   "metadata": {},
   "source": [
    "## Running Many Generations (or Iterations) "
   ]
  },
  {
   "cell_type": "code",
   "execution_count": 36,
   "id": "cc61b752",
   "metadata": {},
   "outputs": [
    {
     "name": "stdout",
     "output_type": "stream",
     "text": [
      "'Best distance for initial population: 20249.634343444683'\n",
      "'Best distance for population in iteration 0: 20102.697556489355'\n",
      "'Best distance for population in iteration 1: 20089.80203462364'\n",
      "'Best distance for population in iteration 2: 20173.66213320897'\n",
      "'Best distance for population in iteration 3: 20256.27272315653'\n",
      "'Best distance for population in iteration 4: 20263.931670077858'\n",
      "'Best distance for population in iteration 5: 20185.704722320683'\n",
      "'Best distance for population in iteration 6: 20172.652742385588'\n",
      "'Best distance for population in iteration 7: 20178.057598563075'\n",
      "'Best distance for population in iteration 8: 19947.851268987368'\n",
      "'Best distance for population in iteration 9: 19972.653490250832'\n",
      "'Best distance for population in iteration 10: 19749.588907139547'\n",
      "'Best distance for population in iteration 11: 19681.29714460546'\n",
      "'Best distance for population in iteration 12: 19517.055545539803'\n",
      "'Best distance for population in iteration 13: 19508.368228626598'\n",
      "'Best distance for population in iteration 14: 19596.451382735584'\n",
      "'Best distance for population in iteration 15: 19253.49541504927'\n",
      "'Best distance for population in iteration 16: 19250.940803591264'\n",
      "'Best distance for population in iteration 17: 19183.63149929019'\n",
      "'Best distance for population in iteration 18: 19237.126115290448'\n",
      "'Best distance for population in iteration 19: 19310.713574711386'\n",
      "'Best distance for population in iteration 20: 19088.27819176528'\n",
      "'Best distance for population in iteration 21: 18993.739744935076'\n",
      "'Best distance for population in iteration 22: 19009.51910052326'\n",
      "'Best distance for population in iteration 23: 19109.7736984675'\n",
      "'Best distance for population in iteration 24: 19186.37661811511'\n",
      "'Best distance for population in iteration 25: 19084.717110360896'\n",
      "'Best distance for population in iteration 26: 19140.83689300254'\n",
      "'Best distance for population in iteration 27: 19088.324624055043'\n",
      "'Best distance for population in iteration 28: 18902.1337898504'\n",
      "'Best distance for population in iteration 29: 18755.947716800023'\n",
      "'Best distance for population in iteration 30: 18927.10142136054'\n",
      "'Best distance for population in iteration 31: 18984.474518336'\n",
      "'Best distance for population in iteration 32: 18970.63565679416'\n",
      "'Best distance for population in iteration 33: 19002.48056664961'\n",
      "'Best distance for population in iteration 34: 19185.088869733056'\n",
      "'Best distance for population in iteration 35: 18928.20102275358'\n",
      "'Best distance for population in iteration 36: 19013.61063610569'\n",
      "'Best distance for population in iteration 37: 19181.73668873535'\n",
      "'Best distance for population in iteration 38: 19135.84645740118'\n",
      "'Best distance for population in iteration 39: 19074.42213771859'\n",
      "'Best distance for population in iteration 40: 19022.622728977025'\n",
      "'Best distance for population in iteration 41: 19061.080467670574'\n",
      "'Best distance for population in iteration 42: 19225.19366140587'\n",
      "'Best distance for population in iteration 43: 19177.61144506587'\n",
      "'Best distance for population in iteration 44: 18855.004494546'\n",
      "'Best distance for population in iteration 45: 19188.54656686146'\n",
      "'Best distance for population in iteration 46: 19148.339767260048'\n",
      "'Best distance for population in iteration 47: 19242.579006061547'\n",
      "'Best distance for population in iteration 48: 19188.77904912195'\n",
      "'Best distance for population in iteration 49: 19077.37318313303'\n",
      "'Best distance for population in iteration 50: 19196.422319431764'\n",
      "'Best distance for population in iteration 51: 19239.54332603572'\n",
      "'Best distance for population in iteration 52: 19296.95924335653'\n",
      "'Best distance for population in iteration 53: 19388.060592956837'\n",
      "'Best distance for population in iteration 54: 19426.454548756115'\n",
      "'Best distance for population in iteration 55: 19454.778468555138'\n",
      "'Best distance for population in iteration 56: 19433.059177357918'\n",
      "'Best distance for population in iteration 57: 19287.345144966905'\n",
      "'Best distance for population in iteration 58: 19501.62872146822'\n",
      "'Best distance for population in iteration 59: 19503.741339412714'\n",
      "'Best distance for population in iteration 60: 19653.590050119572'\n",
      "'Best distance for population in iteration 61: 19664.80823739221'\n",
      "'Best distance for population in iteration 62: 19659.69569235961'\n",
      "'Best distance for population in iteration 63: 19618.371312319046'\n",
      "'Best distance for population in iteration 64: 19554.92690340034'\n",
      "'Best distance for population in iteration 65: 19680.50252678614'\n",
      "'Best distance for population in iteration 66: 19581.401835586414'\n",
      "'Best distance for population in iteration 67: 19647.844542978626'\n",
      "'Best distance for population in iteration 68: 19887.75427685081'\n",
      "'Best distance for population in iteration 69: 19891.46927931941'\n",
      "'Best distance for population in iteration 70: 19667.01808777892'\n",
      "'Best distance for population in iteration 71: 19548.654988832426'\n",
      "'Best distance for population in iteration 72: 19516.36081747493'\n",
      "'Best distance for population in iteration 73: 19353.76511886604'\n",
      "'Best distance for population in iteration 74: 19427.84102418637'\n",
      "'Best distance for population in iteration 75: 19517.250889575167'\n",
      "'Best distance for population in iteration 76: 19524.782335993314'\n",
      "'Best distance for population in iteration 77: 19378.08866375502'\n",
      "'Best distance for population in iteration 78: 19373.145848700773'\n",
      "'Best distance for population in iteration 79: 19530.999898266964'\n",
      "'Best distance for population in iteration 80: 19478.530137660327'\n",
      "'Best distance for population in iteration 81: 19476.777062111614'\n",
      "'Best distance for population in iteration 82: 19478.38304898282'\n",
      "'Best distance for population in iteration 83: 19487.15295970578'\n",
      "'Best distance for population in iteration 84: 19325.041727685242'\n",
      "'Best distance for population in iteration 85: 19466.790361876854'\n",
      "'Best distance for population in iteration 86: 19527.68529570908'\n",
      "'Best distance for population in iteration 87: 19503.42950490769'\n",
      "'Best distance for population in iteration 88: 19531.787828587272'\n",
      "'Best distance for population in iteration 89: 19192.51321897358'\n",
      "'Best distance for population in iteration 90: 19211.930455256934'\n",
      "'Best distance for population in iteration 91: 19349.500587916744'\n",
      "'Best distance for population in iteration 92: 19420.194616855522'\n",
      "'Best distance for population in iteration 93: 19395.76779984593'\n",
      "'Best distance for population in iteration 94: 19175.553530096364'\n",
      "'Best distance for population in iteration 95: 19012.215932935418'\n",
      "'Best distance for population in iteration 96: 19271.267524700885'\n",
      "'Best distance for population in iteration 97: 19103.81341053293'\n",
      "'Best distance for population in iteration 98: 19074.619103815876'\n",
      "'Best distance for population in iteration 99: 19086.44673951048'\n",
      "('Optimal path is [(23,12), (18,75), (39,41), (63,15), (52,72), (51,88), '\n",
      " '(29,98), (51,12), (96,73), (87,25), (34,95), (72,38), (20,79), (2,61), '\n",
      " '(94,22), (91,4), (37,99), (100,0), (35,42), (7,93), (6,70), (32,57), '\n",
      " '(63,23), (32,6), (20,65), (38,57), (6,47), (60,23), (3,100), (86,1), (8,90), '\n",
      " '(41,34), (92,34), (40,21), (91,57), (88,74), (93,64), (17,68), (43,94), '\n",
      " '(13,69), (1,51), (13,20), (76,9), (57,35), (7,67), (28,73), (4,15), (84,12), '\n",
      " '(57,9), (77,57), (61,80), (50,81), (61,12), (78,22), (3,91), (92,31), '\n",
      " '(80,85), (63,89), (97,56), (84,47), (1,27), (98,16), (89,11), (30,7), '\n",
      " '(23,19), (72,57), (69,94), (31,45), (67,98), (58,61), (23,60), (27,89), '\n",
      " '(10,52), (99,8), (95,6), (58,15), (82,26), (61,97), (48,64), (38,29), '\n",
      " '(89,53), (59,3), (8,98), (3,29), (51,23), (53,12), (94,32), (74,67), '\n",
      " '(21,44), (62,32), (7,2), (0,23), (24,46), (7,100), (7,28), (22,22), (53,37), '\n",
      " '(52,59), (50,62), (52,92), (71,71), (59,41), (71,38), (29,11), (32,44), '\n",
      " '(61,48), (31,95), (26,31), (4,79), (34,61), (53,99), (27,25), (55,51), '\n",
      " '(47,27), (23,23), (44,86), (31,28), (53,53), (27,45), (66,55), (50,0), '\n",
      " '(19,74), (59,68), (99,31), (97,15), (91,7), (35,17), (40,44), (87,32), '\n",
      " '(94,24), (37,49), (46,68), (6,61), (18,89), (2,15), (92,16), (21,13), '\n",
      " '(68,75), (83,0), (26,15), (43,95), (33,54), (81,55), (95,60), (96,57), '\n",
      " '(98,2), (58,13), (20,59), (88,19), (98,91), (91,75), (14,23), (5,15), '\n",
      " '(62,91), (35,98), (22,64), (74,24), (10,68), (31,82), (42,39), (47,18), '\n",
      " '(79,38), (49,37), (86,34), (59,86), (48,7), (34,68), (18,57), (37,38), '\n",
      " '(5,7), (12,43), (47,56), (55,88), (66,73), (17,18), (73,89), (91,48), '\n",
      " '(100,57), (72,84), (85,48), (51,50), (96,91), (79,88), (100,60), (47,100), '\n",
      " '(88,76), (35,60), (21,38), (45,29), (32,46), (41,49), (66,98), (14,46), '\n",
      " '(75,17), (59,76), (98,73), (14,66), (99,89), (40,89), (47,84), (88,15), '\n",
      " '(100,66), (74,89), (1,35), (2,86), (93,11), (98,99), (88,36), (58,46), '\n",
      " '(39,95), (87,77), (53,18), (8,14), (22,82), (23,26), (59,12), (11,18), '\n",
      " '(58,74), (32,93), (68,22), (79,14), (16,84), (23,52), (43,59), (32,75), '\n",
      " '(77,93), (86,11), (69,15), (32,19), (29,27), (16,18), (70,12), (65,1), '\n",
      " '(95,36), (3,39), (1,16), (1,41), (36,99), (31,68), (26,20), (61,9), (36,98), '\n",
      " '(2,24), (49,54), (69,56), (0,88), (1,100), (46,31), (47,8), (45,16), '\n",
      " '(24,61), (59,52), (90,7), (56,28), (2,100), (18,70), (43,57), (8,100), '\n",
      " '(27,95), (33,32), (19,16), (54,11), (0,8), (62,28), (60,43), (44,75), '\n",
      " '(0,56), (20,74), (71,23), (36,53), (98,83), (47,30), (80,46), (54,85), '\n",
      " '(45,100), (79,57), (95,42), (89,44), (36,63), (62,62), (41,13), (34,5), '\n",
      " '(71,85), (1,18), (15,41), (87,11), (70,50), (64,25), (0,26), (0,69), (5,40), '\n",
      " '(70,59), (26,63), (53,91), (83,96), (34,35), (38,8), (46,5), (63,50), '\n",
      " '(29,14), (41,85), (14,91), (17,85), (100,83), (74,91), (52,77), (96,71), '\n",
      " '(27,92), (50,62), (28,92), (2,66), (23,42), (98,95), (81,0), (67,60), '\n",
      " '(81,49), (76,34), (89,1), (61,65), (92,62), (83,89), (68,60), (52,15), '\n",
      " '(61,35), (31,38), (8,90), (64,57), (96,75), (57,22), (32,39), (17,24), '\n",
      " '(43,73), (87,68), (80,46), (58,12), (61,100), (85,94), (61,33), (18,7), '\n",
      " '(43,51), (14,11), (51,54), (65,32), (90,9), (79,4), (70,45), (61,6), (77,3), '\n",
      " '(86,0), (98,33), (95,18), (74,16), (85,94), (60,22), (19,44), (69,72), '\n",
      " '(56,89), (89,8), (34,18), (1,58), (19,92), (2,47), (96,35), (6,35), (89,51), '\n",
      " '(14,32), (13,61), (1,24), (61,28), (15,88), (58,11), (25,63), (16,57), '\n",
      " '(3,48), (11,98), (89,91), (88,62), (43,4), (11,99), (53,65), (75,56), '\n",
      " '(92,91), (92,62), (78,83), (13,91), (26,86), (87,85), (71,0), (85,38), '\n",
      " '(88,51), (50,32), (32,5), (10,65), (61,86), (37,30), (29,33), (20,21), '\n",
      " '(66,81), (91,49), (96,35)]')\n"
     ]
    }
   ],
   "source": [
    "filename = 'cities400.txt'\n",
    "popSize = 20\n",
    "eliteSize = 5\n",
    "mutationProbability = 0.01\n",
    "iteration_limit = 100\n",
    "\n",
    "cityList = genCityList(filename)\n",
    "\n",
    "population = initialPopulation(popSize, cityList)\n",
    "distances = [Fitness(p).routeDistance() for p in population]\n",
    "min_dist = min(distances)\n",
    "print(\"Best distance for initial population: \" + str(min_dist))\n",
    "\n",
    "for i in range(iteration_limit):\n",
    "    population = oneGeneration(population, eliteSize, mutationProbability)\n",
    "    distances = [Fitness(p).routeDistance() for p in population]\n",
    "    index = np.argmin(distances)\n",
    "    best_route = population[index]\n",
    "    min_dist = min(distances)\n",
    "    print(\"Best distance for population in iteration \" + str(i) +\n",
    "          \": \" + str(min_dist))\n",
    "\n",
    "print(\"Optimal path is \" + str(best_route)) \n",
    "\n",
    "    # TODO 7 (10 marks) - Performance Evaluation. You will present the performance achieved \n",
    "    # by different parent selection function. You will compare the \n",
    "    # performance achieved by Random Selection, Tournament Selection, and Proportional Selection. \n",
    "   \n",
    "    # Marking scheme: \n",
    "    # 7 to 10 marks:  In-depth performance evaluation. Optimal routes are found. \n",
    "    # 5 to <7 marks:  Clear understanding of performance evaluation.\n",
    "    # >0 to <5 marks: Inaccurate or unclear understanding of performance evaluation. \n",
    "    # 0 marks:        No answer is given. \n",
    "    \n",
    "    # Ask: Can rename parent selection functions?\n",
    "    # Do the performance evaluation in code or ?\n",
    "    # What's the format?\n",
    "\n",
    "    # Cas: Explanation of new codes in TODO 1-6 + Conclusion (evaluate relative performance and effectiveness of the functions + Report on best distance)\n",
    "    # Jee See: Random selection results and analysis\n",
    "    # Person 2: Tournament selection results and analysis\n",
    "    # Person 3: Proportional selection results and analysis\n",
    "  "
   ]
  },
  {
   "cell_type": "code",
   "execution_count": 37,
   "id": "ec332861",
   "metadata": {},
   "outputs": [
    {
     "name": "stdout",
     "output_type": "stream",
     "text": [
      "'Best distance for population in iteration 0: 1951.871293135214'\n",
      "'Best distance for population in iteration 1: 1651.5536824731482'\n",
      "'Best distance for population in iteration 2: 1651.5536824731482'\n",
      "'Best distance for population in iteration 3: 1651.5536824731482'\n",
      "'Best distance for population in iteration 4: 1651.5536824731482'\n",
      "'Best distance for population in iteration 5: 1627.606136740725'\n",
      "'Best distance for population in iteration 6: 1627.606136740725'\n",
      "'Best distance for population in iteration 7: 1626.0394624998323'\n",
      "'Best distance for population in iteration 8: 1621.1998575770406'\n",
      "'Best distance for population in iteration 9: 1621.1998575770406'\n",
      "'Best distance for population in iteration 10: 1589.9757017280388'\n",
      "'Best distance for population in iteration 11: 1516.642288279887'\n",
      "'Best distance for population in iteration 12: 1516.642288279887'\n",
      "'Best distance for population in iteration 13: 1516.642288279887'\n",
      "'Best distance for population in iteration 14: 1516.642288279887'\n",
      "'Best distance for population in iteration 15: 1484.1434537818727'\n",
      "'Best distance for population in iteration 16: 1366.591651903541'\n",
      "'Best distance for population in iteration 17: 1366.591651903541'\n",
      "'Best distance for population in iteration 18: 1366.591651903541'\n",
      "'Best distance for population in iteration 19: 1366.591651903541'\n",
      "'Best distance for population in iteration 20: 1324.251823196829'\n",
      "'Best distance for population in iteration 21: 1306.385661697862'\n",
      "'Best distance for population in iteration 22: 1360.3808699626265'\n",
      "'Best distance for population in iteration 23: 1335.6179618861645'\n",
      "'Best distance for population in iteration 24: 1339.467608383215'\n",
      "'Best distance for population in iteration 25: 1339.467608383215'\n",
      "'Best distance for population in iteration 26: 1339.467608383215'\n",
      "'Best distance for population in iteration 27: 1289.0866626045674'\n",
      "'Best distance for population in iteration 28: 1332.9194633798577'\n",
      "'Best distance for population in iteration 29: 1313.0606875820818'\n",
      "'Best distance for population in iteration 30: 1313.0606875820818'\n",
      "'Best distance for population in iteration 31: 1313.0606875820818'\n",
      "'Best distance for population in iteration 32: 1313.0606875820818'\n",
      "'Best distance for population in iteration 33: 1268.8174394214689'\n",
      "'Best distance for population in iteration 34: 1286.6982625821322'\n",
      "'Best distance for population in iteration 35: 1286.6982625821322'\n",
      "'Best distance for population in iteration 36: 1299.782011042357'\n",
      "'Best distance for population in iteration 37: 1299.782011042357'\n",
      "'Best distance for population in iteration 38: 1299.782011042357'\n",
      "'Best distance for population in iteration 39: 1299.782011042357'\n",
      "'Best distance for population in iteration 40: 1215.0971677847633'\n",
      "'Best distance for population in iteration 41: 1215.0971677847633'\n",
      "'Best distance for population in iteration 42: 1306.3213568731564'\n",
      "'Best distance for population in iteration 43: 1297.0818592402416'\n",
      "'Best distance for population in iteration 44: 1273.4194447707503'\n",
      "'Best distance for population in iteration 45: 1223.7422214279554'\n",
      "'Best distance for population in iteration 46: 1273.4194447707503'\n",
      "'Best distance for population in iteration 47: 1273.4194447707503'\n",
      "'Best distance for population in iteration 48: 1288.7813242474836'\n",
      "'Best distance for population in iteration 49: 1288.7813242474836'\n",
      "'Best distance for population in iteration 50: 1288.7813242474836'\n",
      "'Best distance for population in iteration 51: 1274.198756227538'\n",
      "'Best distance for population in iteration 52: 1240.9796658696093'\n",
      "'Best distance for population in iteration 53: 1175.7031723975817'\n",
      "'Best distance for population in iteration 54: 1223.7240716235162'\n",
      "'Best distance for population in iteration 55: 1213.801591948103'\n",
      "'Best distance for population in iteration 56: 1213.801591948103'\n",
      "'Best distance for population in iteration 57: 1205.3781119826094'\n",
      "'Best distance for population in iteration 58: 1137.149175526235'\n",
      "'Best distance for population in iteration 59: 1116.8768479112005'\n",
      "'Best distance for population in iteration 60: 1116.8768479112005'\n",
      "'Best distance for population in iteration 61: 1166.5865874531294'\n",
      "'Best distance for population in iteration 62: 1166.5865874531294'\n",
      "'Best distance for population in iteration 63: 1166.5865874531294'\n",
      "'Best distance for population in iteration 64: 1166.5865874531294'\n",
      "'Best distance for population in iteration 65: 1156.7298182499455'\n",
      "'Best distance for population in iteration 66: 1156.7298182499455'\n",
      "'Best distance for population in iteration 67: 1178.9157166169473'\n",
      "'Best distance for population in iteration 68: 1178.9157166169473'\n",
      "'Best distance for population in iteration 69: 1178.9157166169473'\n",
      "'Best distance for population in iteration 70: 1171.6968359845148'\n",
      "'Best distance for population in iteration 71: 1171.6968359845148'\n",
      "'Best distance for population in iteration 72: 1171.6968359845148'\n",
      "'Best distance for population in iteration 73: 1171.6968359845148'\n",
      "'Best distance for population in iteration 74: 1171.6968359845148'\n",
      "'Best distance for population in iteration 75: 1135.2601714209713'\n",
      "'Best distance for population in iteration 76: 1148.4977477722114'\n",
      "'Best distance for population in iteration 77: 1148.0839389005394'\n",
      "'Best distance for population in iteration 78: 1136.8525812711946'\n",
      "'Best distance for population in iteration 79: 1095.2423643403677'\n",
      "'Best distance for population in iteration 80: 1136.8525812711946'\n",
      "'Best distance for population in iteration 81: 1136.8525812711946'\n",
      "'Best distance for population in iteration 82: 1109.945291160828'\n",
      "'Best distance for population in iteration 83: 1109.945291160828'\n",
      "'Best distance for population in iteration 84: 1109.945291160828'\n",
      "'Best distance for population in iteration 85: 1127.3750114048999'\n",
      "'Best distance for population in iteration 86: 1127.3750114048999'\n",
      "'Best distance for population in iteration 87: 1127.3750114048999'\n",
      "'Best distance for population in iteration 88: 1127.3750114048999'\n",
      "'Best distance for population in iteration 89: 1132.2265806363882'\n",
      "'Best distance for population in iteration 90: 1132.2265806363882'\n",
      "'Best distance for population in iteration 91: 1143.591146431572'\n",
      "'Best distance for population in iteration 92: 1143.591146431572'\n",
      "'Best distance for population in iteration 93: 1169.7571076754557'\n",
      "'Best distance for population in iteration 94: 1169.7571076754557'\n",
      "'Best distance for population in iteration 95: 1152.1147718633647'\n",
      "'Best distance for population in iteration 96: 1176.4799375269586'\n",
      "'Best distance for population in iteration 97: 1176.4799375269586'\n",
      "'Best distance for population in iteration 98: 1176.4799375269586'\n",
      "'Best distance for population in iteration 99: 1183.3152490499274'\n",
      "('Optimal path is [(53,18), (94,24), (78,22), (86,0), (86,11), (79,4), '\n",
      " '(74,16), (61,28), (53,65), (40,21), (32,19), (32,5), (19,16), (34,18), '\n",
      " '(92,34), (89,53), (100,60), (80,85), (91,75), (73,89), (54,85), (62,91), '\n",
      " '(59,76), (40,44), (7,28), (10,65), (3,39), (5,40), (0,56), (47,100), '\n",
      " '(52,92), (81,49), (96,71), (35,17), (8,14), (23,23), (51,23), (76,34), '\n",
      " '(61,33), (6,47)]')\n",
      "'Optimal distance: 1095.2423643403677'\n"
     ]
    },
    {
     "data": {
      "image/png": "[encoded data removed]",
      "text/plain": [
       "<Figure size 640x480 with 1 Axes>"
      ]
     },
     "metadata": {},
     "output_type": "display_data"
    }
   ],
   "source": [
    "import matplotlib.pyplot as plt\n",
    "import numpy as np\n",
    "\n",
    "def geneticAlgorithm(cityList, popSize, eliteSize, mutationProbability, parentSelection, iteration_limit):\n",
    "    population = initialPopulation(popSize, cityList)\n",
    "    best_route = None\n",
    "    best_route_dist = float(\"inf\")\n",
    "    progress = []\n",
    "\n",
    "    for i in range(iteration_limit):\n",
    "        population = oneGeneration(population, eliteSize, mutationProbability)\n",
    "        distances = [Fitness(p).routeDistance() for p in population]\n",
    "        index = np.argmin(distances)\n",
    "        min_dist = min(distances)\n",
    "\n",
    "        progress.append(min_dist)\n",
    "\n",
    "        if min_dist < best_route_dist:\n",
    "            best_route_dist = min_dist\n",
    "            best_route = population[index]\n",
    "\n",
    "        print(\"Best distance for population in iteration \" + str(i) + \": \" + str(min_dist))\n",
    "\n",
    "    print(\"Optimal path is \" + str(best_route))\n",
    "    print(\"Optimal distance: \" + str(best_route_dist))\n",
    "\n",
    "    return progress\n",
    "\n",
    "# Example run\n",
    "cityList = genCityList(\"cities40.txt\")\n",
    "progress = geneticAlgorithm(cityList, popSize, eliteSize, mutationProbability, parentSelection, iteration_limit)\n",
    "\n",
    "# Plotting\n",
    "plt.plot(progress)\n",
    "plt.ylabel('Distance')\n",
    "plt.xlabel('Generation')\n",
    "plt.title('Random Selection: Distance vs Generation')\n",
    "plt.show()\n"
   ]
  },
  {
   "cell_type": "code",
   "execution_count": null,
   "id": "db1d529a",
   "metadata": {},
   "outputs": [],
   "source": []
  }
 ],
 "metadata": {
  "kernelspec": {
   "display_name": "base",
   "language": "python",
   "name": "python3"
  },
  "language_info": {
   "codemirror_mode": {
    "name": "ipython",
    "version": 3
   },
   "file_extension": ".py",
   "mimetype": "text/x-python",
   "name": "python",
   "nbconvert_exporter": "python",
   "pygments_lexer": "ipython3",
   "version": "3.12.7"
  }
 },
 "nbformat": 4,
 "nbformat_minor": 5
}
