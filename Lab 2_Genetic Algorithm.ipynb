{
 "cells": [
  {
   "cell_type": "markdown",
   "id": "19195cbc",
   "metadata": {},
   "source": [
    "# Artificial Intelligence\n",
    "## UEMH3073 / UECS2053 / UECS2153\n",
    "\n",
    "# Lab 2: Genetic Algorithm"
   ]
  },
  {
   "cell_type": "markdown",
   "id": "357d953f",
   "metadata": {},
   "source": [
    "This notebook is an assignment requiring you to investigate the Travelling Salesman Problem. Guidance is provided so you can understand what needs to be done for this assignment as you follow through this lab. Convenience classes and functions/ methods are provided.\n",
    "\n",
    "You will encounter #TODO in the code cells explaining tasks you need to complete. In other words, you will need to write codes and accomplish the #TODO tasks so that the genetic algorithm functions well and runs correctly. Look for \"Replacement starts here\" and \"Replacement ends here\" to know the parts of the codes requiring your inputs.\n",
    "    \n",
    "\n",
    "The #TODO tasks and their marks distribution are as follows:\n",
    " \n",
    "a. #TODO1 (10 marks) in the Population Initialization function. You will read a set of cities from the filename when creating an initial population. \n",
    "\n",
    "b. #TODO2 (10 marks) in the Parent Selection function. You will replace a dummy parent selection function with Tournament Selection. \n",
    "\n",
    "c. #TODO3 (10 marks) in the Parent Selection function. You will replace a dummy parent selection function with Proportional Selection.\n",
    "\n",
    "d. #TODO4 (10 marks) in the Survival Selection function. You will replace the dummy survival selection function with Merge, Sort & Truncate. \n",
    "    \n",
    "e. #TODO5 (10 marks) in the Crossover function. You will replace the dummy crossover function the Partially Mapped Crossover approach.\n",
    "\n",
    "f. #TODO6 (10 marks) in the Mutation function. You will replace the dummy mutation function with Insertion Mutation approach. \n",
    "\n",
    "g. #TODO7 (10 marks) in Performance Evaluation. You will present performance evaluation for the different Parent Selection functions. \n",
    "\n",
    "Marks are also given for: Report Presentation and Formatting (15%) and Code Quality and Comments (15%). More details about this notebook and assignment are provided in your lab sheet."
   ]
  },
  {
   "cell_type": "markdown",
   "id": "3a397f6c",
   "metadata": {},
   "source": [
    "## An Overview of the Travelling Salesman Problem"
   ]
  },
  {
   "cell_type": "markdown",
   "id": "770d5880",
   "metadata": {},
   "source": [
    "In the travelling salesman problem, a salesperson wish to find the shortest path that passes through all cities s/he wishes to visit given the coordinates of a set of cities. The salesperson should visit each of the cities once only, and so:\n",
    "\n",
    "a. Each path consists all cities in the set.\n",
    "\n",
    "b. Each path visits each of the cities once only. So, none of the cities are visited more than once. "
   ]
  },
  {
   "cell_type": "markdown",
   "id": "0d5d37c8",
   "metadata": {},
   "source": [
    "## Imports"
   ]
  },
  {
   "cell_type": "code",
   "execution_count": 45,
   "id": "86227049",
   "metadata": {},
   "outputs": [],
   "source": [
    "%matplotlib inline\n",
    "\n",
    "# Please add more imports if you need them \n",
    "\n",
    "import random\n",
    "import time\n",
    "import csv\n",
    "\n",
    "import numpy as np\n",
    "import pandas as pd\n",
    "import matplotlib.pyplot as plt\n",
    "\n",
    "from pprint import pprint as print "
   ]
  },
  {
   "cell_type": "markdown",
   "id": "420ef0f6",
   "metadata": {},
   "source": [
    "## Convenience Classes"
   ]
  },
  {
   "cell_type": "markdown",
   "id": "c8335dc9",
   "metadata": {},
   "source": [
    "### City"
   ]
  },
  {
   "cell_type": "markdown",
   "id": "793d7c06",
   "metadata": {},
   "source": [
    "The City class, which represents a city, possesses the properties of the city and has functions/ methods used for calculating the distance between the city and another city. Each path, represented by a chromosome, is formed by a set of cities.   "
   ]
  },
  {
   "cell_type": "code",
   "execution_count": 46,
   "id": "6a3d4ad0",
   "metadata": {},
   "outputs": [],
   "source": [
    "class City:\n",
    "    def __init__(self, x, y):\n",
    "        self.x = x\n",
    "        self.y = y\n",
    "        \n",
    "    def distance(self, city):\n",
    "        xDis = abs(self.x - city.x)\n",
    "        yDis = abs(self.y - city.y)\n",
    "        distance = np.sqrt((xDis ** 2) + (yDis ** 2))\n",
    "        return distance\n",
    "    \n",
    "    def __repr__(self):\n",
    "        return \"(\" + str(self.x) + \",\" + str(self.y) + \")\""
   ]
  },
  {
   "cell_type": "markdown",
   "id": "17c39cd9",
   "metadata": {},
   "source": [
    "### Fitness"
   ]
  },
  {
   "cell_type": "markdown",
   "id": "d1337f65",
   "metadata": {},
   "source": [
    "The Fitness class, which represents the fitness function, possesses the properties of a path and has functions/methods used for calculating the fitness value of the path, which is based on the distance of the path. "
   ]
  },
  {
   "cell_type": "code",
   "execution_count": 47,
   "id": "b9eca58a",
   "metadata": {},
   "outputs": [],
   "source": [
    "class Fitness:\n",
    "    def __init__(self, route):\n",
    "        self.route = route\n",
    "        self.distance = None\n",
    "        self.fitness = None\n",
    "    \n",
    "    def routeDistance(self):\n",
    "        if self.distance == None:\n",
    "            pathDistance = 0.0\n",
    "            for i in range(0, len(self.route)):\n",
    "                fromCity = self.route[i]\n",
    "                toCity = None\n",
    "                if i+1 < len(self.route):\n",
    "                    toCity = self.route[i+1]\n",
    "                else:\n",
    "                    toCity = self.route[0]\n",
    "                pathDistance += fromCity.distance(toCity)\n",
    "            self.distance = pathDistance\n",
    "        return self.distance\n",
    "    \n",
    "    def routeFitness(self):\n",
    "        if self.fitness == None:\n",
    "        # Fitness function (Simple division) that uses a simple \n",
    "        # division that divides one by the distance of the path\n",
    "            self.fitness = 1 / float(self.routeDistance()) \n",
    "            # Note: You must ensure a division by zero does not occur \n",
    "        return self.fitness\n"
   ]
  },
  {
   "cell_type": "markdown",
   "id": "e9ecd81d",
   "metadata": {},
   "source": [
    "## Population Initialization  "
   ]
  },
  {
   "cell_type": "markdown",
   "id": "02544afb",
   "metadata": {},
   "source": [
    "The population initialization function (or method) performs random initialization. This creates an initial population with completely random chromosomes (or solutions). There are three functions related to population initialization. \n",
    "\n",
    "The first function is genCityList() which generates a set of cities from a file.  "
   ]
  },
  {
   "cell_type": "code",
   "execution_count": 48,
   "id": "9d39ed7e",
   "metadata": {},
   "outputs": [],
   "source": [
    "def genCityList(filename):\n",
    "    cityList = []\n",
    "    \n",
    "    # TODO 1 (10 marks) - Replace the following codes that generate 10 random cities.\n",
    "    # Your new implementation must read a set of cities from the filename to be used for creating \n",
    "    # an initial population.  \n",
    "    \n",
    "    # Marking scheme: \n",
    "    # 7 to 10 marks:  Correct implementation. \n",
    "    # 5 to <7 marks:  Minor errors with slight effects on the fitness value.\n",
    "    # >0 to <5 marks: Major errors with significant effects on the fitness value. \n",
    "    # 0 marks:        No answer is given. \n",
    "    \n",
    "    # Replacement starts here (DONE)\n",
    "    # Ask: return list[City]?\n",
    "\n",
    "    citiesDF = pd.read_csv(filename)\n",
    "    cityList = [City(X, Y) for _, X, Y in citiesDF.itertuples(index=False)]\n",
    "    # Replacement ends here\n",
    "    \n",
    "    return cityList\n",
    "\n"
   ]
  },
  {
   "cell_type": "markdown",
   "id": "e4888778",
   "metadata": {},
   "source": [
    "The second function is createRoute() which generates a random route (chromosome) from a set of City instances."
   ]
  },
  {
   "cell_type": "code",
   "execution_count": 49,
   "id": "1f9ac614",
   "metadata": {},
   "outputs": [],
   "source": [
    "def createRoute(cityList):\n",
    "    route = random.sample(cityList, len(cityList))\n",
    "    return route"
   ]
  },
  {
   "cell_type": "markdown",
   "id": "f0c11bbb",
   "metadata": {},
   "source": [
    "The third function is initialPopulation() which calls the second function repeatedly to create an initial population (a list of routes)."
   ]
  },
  {
   "cell_type": "code",
   "execution_count": 50,
   "id": "4ae07df2",
   "metadata": {},
   "outputs": [],
   "source": [
    "def initialPopulation(popSize, cityList):\n",
    "    population = []\n",
    "    for i in range(0, popSize):\n",
    "        population.append(createRoute(cityList))\n",
    "    return population"
   ]
  },
  {
   "cell_type": "markdown",
   "id": "ed5c9a1d",
   "metadata": {},
   "source": [
    "You can run the above functions using the sample runs below. To do so, simply change the cell type from Markdown to Code.\n",
    "\n",
    "Sample run 1 initializes 10 cities in cityList as follows:"
   ]
  },
  {
   "cell_type": "markdown",
   "id": "dbce56f2",
   "metadata": {},
   "source": [
    "cityList = genCityList('cities10.txt') \n",
    "print(cityList)"
   ]
  },
  {
   "cell_type": "markdown",
   "id": "00b4e341",
   "metadata": {},
   "source": [
    "Sample run 2 initializes 10 cities in cityList and creates a population with three routes as follows:"
   ]
  },
  {
   "cell_type": "markdown",
   "id": "e7f8538a",
   "metadata": {},
   "source": [
    "cityList = genCityList('cities10.txt') \n",
    "population = initialPopulation(3, cityList) \n",
    "print(population)"
   ]
  },
  {
   "cell_type": "markdown",
   "id": "f8aac59f",
   "metadata": {},
   "source": [
    "## Selection"
   ]
  },
  {
   "cell_type": "markdown",
   "id": "cb5cfd2d",
   "metadata": {},
   "source": [
    "Parents selection selects chromosomes with high fitness values from a population. Survivor selection selects chromosomes with higher fitness values to form the population of the next generation. The population size is len(population), so we have len(population) in this population. "
   ]
  },
  {
   "cell_type": "markdown",
   "id": "91040238",
   "metadata": {},
   "source": [
    "### Parent Selection\n",
    "\n",
    "There are three implementations for parent selection. The first parentSelection() performs random selection."
   ]
  },
  {
   "cell_type": "code",
   "execution_count": 51,
   "id": "3add27f7",
   "metadata": {},
   "outputs": [],
   "source": [
    "def parentSelection(population, poolSize=None):\n",
    "    if poolSize == None:\n",
    "        poolSize = len(population)\n",
    "        \n",
    "    matingPool = []\n",
    "    \n",
    "    for i in range(0, poolSize):\n",
    "        fitness = Fitness(population[i]).routeFitness()\n",
    "        matingPool.append(random.choice(population))\n",
    "      \n",
    "    return matingPool"
   ]
  },
  {
   "cell_type": "markdown",
   "id": "7d7aedb6",
   "metadata": {},
   "source": [
    "The second parentSelection() performs Tournament Selection."
   ]
  },
  {
   "cell_type": "code",
   "execution_count": 52,
   "id": "53e6ed39",
   "metadata": {},
   "outputs": [],
   "source": [
    "def parentSelection(population, poolSize=None):\n",
    "\n",
    "    # TODO 2 (10 marks) - Replace the dummy parent selection function below with\n",
    "    # Tournament Selection.\n",
    "\n",
    "    # Marking scheme:\n",
    "    # 7 to 10 marks:  Correct implementation.\n",
    "    # 5 to <7 marks:  Minor errors.\n",
    "    # >0 to <5 marks: Major errors.\n",
    "    # 0 marks:        No answer is given.\n",
    "\n",
    "    # You will need to compare the performance achieved by Random Selection,\n",
    "    # Tournament Selection, and Proportional Selection during performance evaluation\n",
    "    # later. So, you will run either Random Selection, Tournament Selection, or\n",
    "    # Proportional Selection in a simulation run.\n",
    "\n",
    "    if poolSize == None:\n",
    "        poolSize = len(population)\n",
    "\n",
    "    matingPool = []\n",
    "\n",
    "    # Replacement starts here (DONE)\n",
    "    # Ask: Select own Tournament size?\n",
    "    # Ask: poolSize = population size?\n",
    "    tournament_size = 3\n",
    "    for _ in range(poolSize):\n",
    "        routes = random.sample(population, tournament_size)\n",
    "        winner = max(routes, key=lambda route: Fitness(route).routeFitness())\n",
    "        matingPool.append(winner)\n",
    "    # Replacement ends here\n",
    "\n",
    "    return matingPool"
   ]
  },
  {
   "cell_type": "markdown",
   "id": "4bb238e2",
   "metadata": {},
   "source": [
    "The third parentSelection() performs Proportional Selection."
   ]
  },
  {
   "cell_type": "code",
   "execution_count": 53,
   "id": "2ccaef4a",
   "metadata": {},
   "outputs": [],
   "source": [
    "def parentSelection(population, poolSize=None):\n",
    "    \n",
    "    # TODO 3 (10 marks) - Replace the dummy parent selection function below with  \n",
    "    # Proportional Selection.\n",
    "      \n",
    "    # Marking scheme: \n",
    "    # 7 to 10 marks:  Correct implementation. \n",
    "    # 5 to <7 marks:  Minor errors.\n",
    "    # >0 to <5 marks: Major errors. \n",
    "    # 0 marks:        No answer is given. \n",
    "    \n",
    "    # You will need to compare the performance achieved by Random Selection, \n",
    "    # Tournament Selection, and Proportional Selection during performance evaluation \n",
    "    # later. So, you will run either Random Selection, Tournament Selection, or \n",
    "    # Proportional Selection in a simulation run.\n",
    "    \n",
    "    if poolSize == None:\n",
    "        poolSize = len(population)\n",
    "        \n",
    "    matingPool = []\n",
    "    \n",
    "    # Replacement starts here (DONE)\n",
    "    # Ask: = Fitness-proportional selection? \n",
    "    total_fitness = sum([Fitness(route).routeFitness() for route in population])\n",
    "    if (total_fitness == 0):\n",
    "        return random.choices(population, k=poolSize)\n",
    "    \n",
    "    for _ in range(poolSize):\n",
    "        r = random.uniform(0, total_fitness)\n",
    "        cum_sum = 0\n",
    "        for i, route in enumerate(population):\n",
    "            cum_sum += Fitness(route).routeFitness()\n",
    "            if cum_sum >= r:\n",
    "                matingPool.append(route)\n",
    "                break\n",
    "    # Replacement ends here\n",
    "    \n",
    "    return matingPool"
   ]
  },
  {
   "cell_type": "markdown",
   "id": "767df4e1",
   "metadata": {},
   "source": [
    "### Survival Selection"
   ]
  },
  {
   "cell_type": "code",
   "execution_count": 54,
   "id": "80f74e5a",
   "metadata": {},
   "outputs": [],
   "source": [
    "def survivorSelection(population, eliteSize):\n",
    "\n",
    "    # TODO 4 (10 marks) - Replace the dummy survival selection function below with\n",
    "    # Merge, Sort & Truncate.\n",
    "\n",
    "    # Marking scheme:\n",
    "    # 7 to 10 marks:  Correct implementation.\n",
    "    # 5 to <7 marks:  Minor errors.\n",
    "    # >0 to <5 marks: Major errors.\n",
    "    # 0 marks:        No answer is given.\n",
    "\n",
    "    elites = []\n",
    "\n",
    "    # Replacement starts here (DONE)\n",
    "    # Ask: return size is eliteSize\n",
    "    sorted_population = sorted(population, key=lambda route: Fitness(route).routeFitness(), reverse=True)\n",
    "    elites = sorted_population[:eliteSize]\n",
    "    # Replacement ends here\n",
    "\n",
    "    return elites"
   ]
  },
  {
   "cell_type": "markdown",
   "id": "c003d631",
   "metadata": {},
   "source": [
    "You can run the above functions using the sample runs below. To do so, simply change the cell type from Markdown to Code. \n",
    "\n",
    "Sample run 1 initializes 10 cities in cityList, creates a population with four routes, and creates a pool of parents as follows:"
   ]
  },
  {
   "cell_type": "markdown",
   "id": "cb064cc7",
   "metadata": {},
   "source": [
    "population = initialPopulation(4, genCityList('cities10.txt'))\n",
    "matingpool = parentSelection(population, 4) \n",
    "print('Initial population') \n",
    "print(population) \n",
    "print('Mating pool') \n",
    "print(matingpool)"
   ]
  },
  {
   "cell_type": "markdown",
   "id": "c4431342",
   "metadata": {},
   "source": [
    "Sample run 2 initializes 10 cities in cityList, creates a population with four routes, select an elite chromosome as follows:"
   ]
  },
  {
   "cell_type": "markdown",
   "id": "d5a0593b",
   "metadata": {},
   "source": [
    "population = initialPopulation(4, genCityList('cities10.txt'))\n",
    "elites = survivorSelection(population, 1)\n",
    "print('Initial population')\n",
    "print(population)\n",
    "print('Selected elites')\n",
    "print(elites)"
   ]
  },
  {
   "cell_type": "code",
   "execution_count": 55,
   "id": "2bb0c8be",
   "metadata": {},
   "outputs": [],
   "source": [
    "def crossover(parent1, parent2):\n",
    "\n",
    "    # TODO 5 (10 marks) - Replace the dummy crossover function below with\n",
    "    # Partially Mapped Crossover approach.\n",
    "\n",
    "    # Marking scheme:\n",
    "    # 7 to 10 marks:  Correct implementation.\n",
    "    # 5 to <7 marks:  Minor errors.\n",
    "    # >0 to <5 marks: Major errors.\n",
    "    # 0 marks:        No answer is given.\n",
    "\n",
    "    # Replacement starts here\n",
    "    size = len(parent1)\n",
    "\n",
    "    # Initialize children with None\n",
    "    child1 = [None] * size\n",
    "    child2 = [None] * size\n",
    "\n",
    "    cx_point1, cx_point2 = sorted(random.sample(range(size+1), 2))\n",
    "    cx_point1 = 2\n",
    "    cx_point2 = 6\n",
    "\n",
    "    child1[cx_point1 : cx_point2] = parent1[cx_point1 : cx_point2]\n",
    "    child2[cx_point1 : cx_point2] = parent2[cx_point1 : cx_point2]\n",
    "\n",
    "    def fill_child(child, parent_a, parent_b):\n",
    "        for i in (*range(0, cx_point1), *range(cx_point2, size)):\n",
    "            gene = parent_b[i]\n",
    "            while gene in parent_a[cx_point1:cx_point2]:\n",
    "                gene = parent_b[parent_a.index(gene)]\n",
    "            child[i] = gene\n",
    "        return child\n",
    "\n",
    "    child1 = fill_child(child1, parent1, parent2)\n",
    "    child2 = fill_child(child2, parent2, parent1)\n",
    "\n",
    "    # Replacement ends here\n",
    "\n",
    "    return child1, child2"
   ]
  },
  {
   "cell_type": "markdown",
   "id": "ebba82a2",
   "metadata": {},
   "source": [
    "## Crossover\n"
   ]
  },
  {
   "cell_type": "markdown",
   "id": "3c655d11",
   "metadata": {},
   "source": [
    "Crossover selects two parents, crossover the genetic materials of the parents, and produce one or more children. In the Travelling Salesman Problem, each travelling path must be valid. Each path consists all cities in the set, and each path visits each of the cities once only. So, none of the cities are visited more than once. Exchanging parts of two chromosomes tend to produce invalid paths. As an example, Parent 1 is [2 1 0 7 3 5 4 6] and Parent 2 is [6 1 0 5 2 3 4 7]. One point crossover at midpoint generates Child 1 [2 1 0 7 2 3 4 7] and Child 2 [6 1 0 5 3 5 4 6]. Both children are invalid paths.     "
   ]
  },
  {
   "cell_type": "markdown",
   "id": "48ca735c",
   "metadata": {},
   "source": [
    "Crossover selects two parents from the mating pool to produce a new generation of the same size."
   ]
  },
  {
   "cell_type": "code",
   "execution_count": 56,
   "id": "308e4680",
   "metadata": {},
   "outputs": [],
   "source": [
    "def breedPopulation(matingpool):\n",
    "    children = []\n",
    "    \n",
    "    # Choosing parents in their order of presence in the mating pool. Choosing parents\n",
    "    # in a random manner is possible. \n",
    "    \n",
    "    for i in range(1, len(matingpool), 2):\n",
    "        child1, child2 = crossover(matingpool[i-1], matingpool[i])\n",
    "        children.append(child1)\n",
    "        children.append(child2)\n",
    "    \n",
    "    return children"
   ]
  },
  {
   "cell_type": "markdown",
   "id": "2152fd9e",
   "metadata": {},
   "source": [
    "You can run the above functions using the sample run below. To do so, simply change the cell type from Markdown to Code. The sample run initializes 2 chromosomes in the population, and performs crossover among the two parents. "
   ]
  },
  {
   "cell_type": "markdown",
   "id": "7b02b58d",
   "metadata": {},
   "source": [
    "population = initialPopulation(2, genCityList('cities10.txt'))\n",
    "parent1, parent2 = population\n",
    "child1, child2 = crossover(parent1, parent2)\n",
    "print('Parents')\n",
    "print(parent1)\n",
    "print(parent2)\n",
    "print('Children')\n",
    "print(child1)\n",
    "print(child2)"
   ]
  },
  {
   "cell_type": "markdown",
   "id": "0508e984",
   "metadata": {},
   "source": [
    "## Mutation"
   ]
  },
  {
   "cell_type": "markdown",
   "id": "e741bcba",
   "metadata": {},
   "source": [
    "Mutation mutates a single chromosome to get a mutated chromosome so that genetic algorithm can converge to a shorter path quickly. In the Travelling Salesman Problem, a mutated chromosome must be a valid path. As an example, the insertion mutation randomly inserts a single gene in the [1 2 3 4 5 6 7 8 9 10] chromosome to generate the [1 2 4 5 6 7 3 8 9 10] mutated chromosome. Step 1: select a gene randomly, Step 2: insert this gene into a randomly selected location."
   ]
  },
  {
   "cell_type": "code",
   "execution_count": null,
   "id": "fcc4c53b",
   "metadata": {},
   "outputs": [],
   "source": [
    "def mutate(route, mutationProbability):\n",
    "    \n",
    "    # TODO 6 (10 marks) - Replace the dummy mutation function below with Insertion Mutation.\n",
    "    # The dummy mutation function simply swaps a city with the city before it.  \n",
    "   \n",
    "    # Marking scheme: \n",
    "    # 7 to 10 marks:  Correct implementation. \n",
    "    # 5 to <7 marks:  Minor errors.\n",
    "    # >0 to <5 marks: Major errors. \n",
    "    # 0 marks:        No answer is given. \n",
    "     \n",
    "    mutated_route = route[:]\n",
    "    for i in range(len(route)):\n",
    "        if (random.random() < mutationProbability):\n",
    "            # mutationProbability is the probability of a gene undergoing mutation\n",
    "            \n",
    "            # Replacement starts here (DONE)\n",
    "            city = mutated_route.pop(i)\n",
    "            insert_index = random.randint(0, len(mutated_route))\n",
    "            mutated_route.insert(insert_index, city)\n",
    "            # Replacement ends here\n",
    "    return mutated_route"
   ]
  },
  {
   "cell_type": "markdown",
   "id": "561658a7",
   "metadata": {},
   "source": [
    "Mutation runs over the entire population and mutates each chromosome in the population with a small mutationProbability. "
   ]
  },
  {
   "cell_type": "code",
   "execution_count": 58,
   "id": "18bcf873",
   "metadata": {},
   "outputs": [],
   "source": [
    "def mutation(population, mutationProbability):\n",
    "    mutatedPopulation = []\n",
    "    for i in range(0, len(population)):\n",
    "        mutatedIndividual = mutate(population[i], mutationProbability)\n",
    "        mutatedPopulation.append(mutatedIndividual)\n",
    "    return mutatedPopulation"
   ]
  },
  {
   "cell_type": "markdown",
   "id": "e2c7728f",
   "metadata": {},
   "source": [
    "You can run the above functions using the sample run below. To do so, simply change the cell type from Markdown to Code. The sample run initializes a route comprised of 10 cities in cityList, and then mutates it as follows:"
   ]
  },
  {
   "cell_type": "markdown",
   "id": "4b9fa051",
   "metadata": {},
   "source": [
    "route = genCityList('cities10.txt')\n",
    "mutated = mutate(route, 1)  # Give a pretty high chance for mutation\n",
    "print('Original route')\n",
    "print(route)\n",
    "print('Mutated route')\n",
    "print(mutated)"
   ]
  },
  {
   "cell_type": "markdown",
   "id": "1c0cf960",
   "metadata": {},
   "source": [
    "## Running One Generation (or Iteration)"
   ]
  },
  {
   "cell_type": "markdown",
   "id": "2e4e26f5",
   "metadata": {},
   "source": [
    "Here, we run one generation of genetic algorithm. "
   ]
  },
  {
   "cell_type": "code",
   "execution_count": 59,
   "id": "57f76661",
   "metadata": {},
   "outputs": [],
   "source": [
    "def oneGeneration(population, eliteSize, mutationProbability):\n",
    "    \n",
    "    # First we preserve the elites\n",
    "    elites = survivorSelection(population, eliteSize)\n",
    "    \n",
    "    # Then we calculate what our mating pool size should be and generate\n",
    "    # the mating pool\n",
    "    poolSize = len(population) - eliteSize\n",
    "    matingpool = parentSelection(population, poolSize)\n",
    "        \n",
    "    # Then we perform crossover on the mating pool\n",
    "    children = breedPopulation(matingpool)\n",
    "    \n",
    "    # We combine the elites and children into one population\n",
    "    new_population = elites + children\n",
    "    \n",
    "    # We mutate the population\n",
    "    mutated_population = mutation(new_population, mutationProbability)\n",
    "        \n",
    "    return mutated_population"
   ]
  },
  {
   "cell_type": "markdown",
   "id": "daa87ed8",
   "metadata": {},
   "source": [
    "You can run the above functions using the sample run below. To do so, simply change the cell type from Markdown to Code. The sample run initializes a population comprised of 5 chromosomes based on 10 cities in cityList, and then run one generation (or iteration) of genetic algorithm as follows:"
   ]
  },
  {
   "cell_type": "markdown",
   "id": "0f2a347b",
   "metadata": {},
   "source": [
    "population = initialPopulation(5, genCityList('cities10.txt'))\n",
    "eliteSize = 1\n",
    "mutationProbability = 0.01\n",
    "new_population = oneGeneration(population, eliteSize, mutationProbability)\n",
    "print('Initial population')\n",
    "print(population)\n",
    "print('New population')\n",
    "print(new_population)"
   ]
  },
  {
   "cell_type": "markdown",
   "id": "500893f7",
   "metadata": {},
   "source": [
    "## Running Many Generations (or Iterations) "
   ]
  },
  {
   "cell_type": "code",
   "execution_count": null,
   "id": "cc61b752",
   "metadata": {},
   "outputs": [
    {
     "name": "stdout",
     "output_type": "stream",
     "text": [
      "'Best distance for initial population: 20710.64513808047'\n",
      "'Best distance for population in iteration 0: 20667.509402477408'\n",
      "'Best distance for population in iteration 1: 20739.183341969052'\n",
      "'Best distance for population in iteration 2: 20669.564675931946'\n",
      "'Best distance for population in iteration 3: 20586.72343065662'\n",
      "'Best distance for population in iteration 4: 20485.966575086415'\n",
      "'Best distance for population in iteration 5: 20496.005343592788'\n",
      "'Best distance for population in iteration 6: 20324.111329505064'\n",
      "'Best distance for population in iteration 7: 20281.413109400877'\n",
      "'Best distance for population in iteration 8: 20299.287061031588'\n",
      "'Best distance for population in iteration 9: 20167.240758888875'\n",
      "'Best distance for population in iteration 10: 20059.55203902204'\n",
      "'Best distance for population in iteration 11: 19943.71330147218'\n",
      "'Best distance for population in iteration 12: 19898.387260943502'\n",
      "'Best distance for population in iteration 13: 19891.71923722306'\n",
      "'Best distance for population in iteration 14: 19782.647309226388'\n",
      "'Best distance for population in iteration 15: 19713.67982747224'\n",
      "'Best distance for population in iteration 16: 19607.302689076132'\n",
      "'Best distance for population in iteration 17: 19576.993485557527'\n",
      "'Best distance for population in iteration 18: 19597.124952174836'\n",
      "'Best distance for population in iteration 19: 19592.07274295459'\n",
      "'Best distance for population in iteration 20: 19476.25269070909'\n",
      "'Best distance for population in iteration 21: 19478.61720625121'\n",
      "'Best distance for population in iteration 22: 19476.495024158812'\n",
      "'Best distance for population in iteration 23: 19432.537051531457'\n",
      "'Best distance for population in iteration 24: 19409.490997923927'\n",
      "'Best distance for population in iteration 25: 19359.09786138086'\n",
      "'Best distance for population in iteration 26: 19373.706705017838'\n",
      "'Best distance for population in iteration 27: 19273.278188255284'\n",
      "'Best distance for population in iteration 28: 19255.47857399453'\n",
      "'Best distance for population in iteration 29: 19341.97591180045'\n",
      "'Best distance for population in iteration 30: 19276.236915540514'\n",
      "'Best distance for population in iteration 31: 19228.14968401908'\n",
      "'Best distance for population in iteration 32: 19235.91522641356'\n",
      "'Best distance for population in iteration 33: 19128.744376564187'\n",
      "'Best distance for population in iteration 34: 19130.9725412473'\n",
      "'Best distance for population in iteration 35: 19180.873517619446'\n",
      "'Best distance for population in iteration 36: 19136.938995715434'\n",
      "'Best distance for population in iteration 37: 19019.910748319515'\n",
      "'Best distance for population in iteration 38: 19005.4495048792'\n",
      "'Best distance for population in iteration 39: 18947.647546343145'\n",
      "'Best distance for population in iteration 40: 18951.84199151592'\n",
      "'Best distance for population in iteration 41: 18889.278585113927'\n",
      "'Best distance for population in iteration 42: 18919.767855475802'\n",
      "'Best distance for population in iteration 43: 18900.404164754298'\n",
      "'Best distance for population in iteration 44: 18799.249671252524'\n",
      "'Best distance for population in iteration 45: 18808.820784305735'\n",
      "'Best distance for population in iteration 46: 18890.562605589483'\n",
      "'Best distance for population in iteration 47: 18929.798967098242'\n",
      "'Best distance for population in iteration 48: 18880.147024647467'\n",
      "'Best distance for population in iteration 49: 18873.630471167548'\n",
      "'Best distance for population in iteration 50: 18849.878238526075'\n",
      "'Best distance for population in iteration 51: 18894.346945059042'\n",
      "'Best distance for population in iteration 52: 18965.936992990508'\n",
      "'Best distance for population in iteration 53: 18990.75021254233'\n",
      "'Best distance for population in iteration 54: 18787.617116349495'\n",
      "'Best distance for population in iteration 55: 18946.967453034238'\n",
      "'Best distance for population in iteration 56: 19042.813172272396'\n",
      "'Best distance for population in iteration 57: 19090.189936132956'\n",
      "'Best distance for population in iteration 58: 18913.1580527098'\n",
      "'Best distance for population in iteration 59: 18949.303586367394'\n",
      "'Best distance for population in iteration 60: 18958.355139888386'\n",
      "'Best distance for population in iteration 61: 18976.14647431369'\n",
      "'Best distance for population in iteration 62: 18993.097128090092'\n",
      "'Best distance for population in iteration 63: 19017.31186673884'\n",
      "'Best distance for population in iteration 64: 18976.21245557189'\n",
      "'Best distance for population in iteration 65: 18732.88540357009'\n",
      "'Best distance for population in iteration 66: 18843.119235212474'\n",
      "'Best distance for population in iteration 67: 18968.463334084034'\n",
      "'Best distance for population in iteration 68: 18900.931141010184'\n",
      "'Best distance for population in iteration 69: 18912.85211815388'\n",
      "'Best distance for population in iteration 70: 18847.452186181174'\n",
      "'Best distance for population in iteration 71: 18836.15907626326'\n",
      "'Best distance for population in iteration 72: 18963.979442373864'\n",
      "'Best distance for population in iteration 73: 18900.376139522734'\n",
      "'Best distance for population in iteration 74: 18839.25482185432'\n",
      "'Best distance for population in iteration 75: 18664.109340102'\n",
      "'Best distance for population in iteration 76: 18695.99115461602'\n",
      "'Best distance for population in iteration 77: 18717.062648674982'\n",
      "'Best distance for population in iteration 78: 18792.357121461086'\n",
      "'Best distance for population in iteration 79: 18745.01229673644'\n",
      "'Best distance for population in iteration 80: 18920.75493183618'\n",
      "'Best distance for population in iteration 81: 19003.78409631065'\n",
      "'Best distance for population in iteration 82: 18949.423904297993'\n",
      "'Best distance for population in iteration 83: 18893.754262284907'\n",
      "'Best distance for population in iteration 84: 18922.24677290664'\n",
      "'Best distance for population in iteration 85: 18921.749989467677'\n",
      "'Best distance for population in iteration 86: 18885.218896682836'\n",
      "'Best distance for population in iteration 87: 18885.73577369538'\n",
      "'Best distance for population in iteration 88: 19001.852542490058'\n",
      "'Best distance for population in iteration 89: 19101.632563062514'\n",
      "'Best distance for population in iteration 90: 19159.043141109294'\n",
      "'Best distance for population in iteration 91: 18986.287677650995'\n",
      "'Best distance for population in iteration 92: 18957.36809986161'\n",
      "'Best distance for population in iteration 93: 18955.517137373172'\n",
      "'Best distance for population in iteration 94: 18912.857243855953'\n",
      "'Best distance for population in iteration 95: 18775.334042709288'\n",
      "'Best distance for population in iteration 96: 18701.441595534085'\n",
      "'Best distance for population in iteration 97: 18731.873916670505'\n",
      "'Best distance for population in iteration 98: 18707.835197595195'\n",
      "'Best distance for population in iteration 99: 18693.29540273797'\n",
      "('Optimal path is [(96,75), (98,99), (83,89), (87,77), (3,91), (1,24), (34,5), '\n",
      " '(91,48), (43,94), (87,11), (14,46), (23,19), (100,83), (95,36), (95,6), '\n",
      " '(85,48), (92,34), (72,38), (32,44), (47,56), (66,98), (88,74), (50,81), '\n",
      " '(91,7), (100,57), (95,18), (3,48), (71,38), (43,51), (98,33), (5,7), '\n",
      " '(53,53), (53,37), (2,86), (61,9), (19,74), (40,44), (14,11), (3,100), '\n",
      " '(91,75), (35,98), (76,34), (51,54), (53,91), (95,42), (23,23), (48,7), '\n",
      " '(32,6), (32,5), (64,57), (29,27), (98,73), (57,22), (51,50), (24,61), '\n",
      " '(73,89), (16,84), (32,19), (51,12), (99,8), (98,2), (23,26), (4,15), (30,7), '\n",
      " '(27,25), (74,89), (44,75), (38,8), (79,4), (57,9), (51,23), (55,51), '\n",
      " '(40,21), (36,63), (31,68), (2,47), (0,56), (58,61), (46,5), (49,37), '\n",
      " '(41,13), (7,28), (63,23), (75,17), (99,31), (16,18), (2,24), (77,3), '\n",
      " '(89,44), (71,85), (8,98), (29,98), (28,73), (17,85), (56,89), (61,65), '\n",
      " '(21,38), (13,20), (18,89), (60,23), (0,8), (87,32), (94,32), (22,22), '\n",
      " '(18,75), (19,92), (43,95), (26,31), (1,58), (22,82), (2,66), (89,53), '\n",
      " '(72,57), (47,18), (58,13), (17,24), (81,0), (92,16), (45,29), (0,26), '\n",
      " '(27,92), (80,85), (69,94), (79,38), (96,71), (68,22), (96,35), (94,22), '\n",
      " '(47,8), (16,57), (60,22), (31,82), (86,1), (39,41), (63,89), (8,90), '\n",
      " '(66,81), (93,64), (50,62), (52,72), (88,51), (26,63), (38,57), (86,11), '\n",
      " '(61,6), (89,8), (20,21), (93,11), (84,47), (96,35), (2,15), (78,83), '\n",
      " '(75,56), (50,0), (8,14), (7,100), (32,75), (26,15), (28,92), (53,65), '\n",
      " '(12,43), (13,61), (77,57), (74,91), (45,100), (23,42), (86,34), (31,45), '\n",
      " '(0,23), (20,74), (4,79), (14,91), (89,91), (100,0), (41,34), (14,32), '\n",
      " '(10,52), (59,76), (5,40), (43,73), (20,65), (35,60), (26,86), (33,54), '\n",
      " '(49,54), (32,39), (92,91), (59,52), (68,60), (86,0), (63,15), (27,95), '\n",
      " '(83,96), (7,67), (23,60), (53,99), (99,89), (42,39), (32,57), (1,51), '\n",
      " '(56,28), (1,16), (19,44), (85,94), (40,89), (59,68), (71,71), (69,72), '\n",
      " '(20,59), (31,95), (92,62), (62,32), (58,12), (52,92), (65,32), (3,39), '\n",
      " '(6,47), (20,79), (34,35), (59,86), (0,88), (37,30), (31,28), (58,74), '\n",
      " '(81,55), (63,50), (70,45), (1,41), (25,63), (79,57), (21,13), (89,1), '\n",
      " '(59,12), (61,86), (91,49), (91,57), (8,100), (98,91), (46,68), (67,98), '\n",
      " '(6,61), (47,27), (88,36), (85,38), (51,88), (0,69), (67,60), (89,51), '\n",
      " '(77,93), (11,98), (74,24), (52,59), (61,48), (57,35), (66,73), (60,43), '\n",
      " '(11,99), (37,38), (23,52), (41,49), (29,14), (98,95), (80,46), (61,28), '\n",
      " '(48,64), (85,94), (96,91), (47,100), (70,12), (84,12), (78,22), (6,70), '\n",
      " '(19,16), (13,69), (59,41), (14,23), (6,35), (17,18), (24,46), (50,62), '\n",
      " '(88,76), (90,9), (52,15), (47,30), (79,88), (52,77), (50,32), (70,50), '\n",
      " '(83,0), (81,49), (23,12), (32,46), (62,28), (74,16), (88,62), (2,61), '\n",
      " '(10,68), (43,57), (53,12), (65,1), (76,9), (46,31), (61,33), (66,55), '\n",
      " '(54,11), (18,70), (1,35), (41,85), (15,41), (58,46), (31,38), (59,3), '\n",
      " '(37,99), (17,68), (5,15), (88,19), (69,15), (87,68), (27,45), (71,23), '\n",
      " '(36,53), (45,16), (34,18), (7,2), (27,89), (10,65), (87,25), (96,73), '\n",
      " '(29,33), (34,95), (54,85), (2,100), (72,84), (7,93), (34,61), (26,20), '\n",
      " '(29,11), (8,90), (14,66), (97,56), (36,99), (39,95), (22,64), (95,60), '\n",
      " '(98,83), (92,31), (3,29), (62,62), (53,18), (100,66), (89,11), (61,35), '\n",
      " '(43,4), (38,29), (43,59), (13,91), (94,24), (58,11), (88,15), (61,12), '\n",
      " '(98,16), (90,7), (100,60), (1,100), (36,98), (96,57), (35,17), (35,42), '\n",
      " '(37,49), (61,100), (44,86), (21,44), (1,18), (18,57), (15,88), (32,93), '\n",
      " '(80,46), (64,25), (91,4), (87,85), (92,62), (55,88), (58,15), (18,7), '\n",
      " '(97,15), (68,75), (74,67), (1,27), (34,68), (47,84), (79,14), (33,32), '\n",
      " '(82,26), (69,56), (11,18), (70,59), (62,91), (61,80), (61,97), (71,0)]')\n",
      "np.float64(18693.29540273797)\n"
     ]
    }
   ],
   "source": [
    "filename = 'cities400.txt'\n",
    "popSize = 20\n",
    "eliteSize = 5\n",
    "mutationProbability = 0.01\n",
    "iteration_limit = 100\n",
    "\n",
    "cityList = genCityList(filename)\n",
    "\n",
    "population = initialPopulation(popSize, cityList)\n",
    "distances = [Fitness(p).routeDistance() for p in population]\n",
    "min_dist = min(distances)\n",
    "print(\"Best distance for initial population: \" + str(min_dist))\n",
    "\n",
    "for i in range(iteration_limit):\n",
    "    population = oneGeneration(population, eliteSize, mutationProbability)\n",
    "    distances = [Fitness(p).routeDistance() for p in population]\n",
    "    index = np.argmin(distances)\n",
    "    best_route = population[index]\n",
    "    min_dist = min(distances)\n",
    "    print(\"Best distance for population in iteration \" + str(i) +\n",
    "          \": \" + str(min_dist))\n",
    "\n",
    "print(\"Optimal path is \" + str(best_route)) \n",
    "\n",
    "    # TODO 7 (10 marks) - Performance Evaluation. You will present the performance achieved \n",
    "    # by different parent selection function. You will compare the \n",
    "    # performance achieved by Random Selection, Tournament Selection, and Proportional Selection. \n",
    "   \n",
    "    # Marking scheme: \n",
    "    # 7 to 10 marks:  In-depth performance evaluation. Optimal routes are found. \n",
    "    # 5 to <7 marks:  Clear understanding of performance evaluation.\n",
    "    # >0 to <5 marks: Inaccurate or unclear understanding of performance evaluation. \n",
    "    # 0 marks:        No answer is given. \n",
    "    \n",
    "    # Ask: Can rename parent selection functions?\n",
    "    # Ask: Do the performance evaluation in code or ?\n",
    "  "
   ]
  },
  {
   "cell_type": "code",
   "execution_count": null,
   "id": "ec332861",
   "metadata": {},
   "outputs": [],
   "source": []
  }
 ],
 "metadata": {
  "kernelspec": {
   "display_name": "base",
   "language": "python",
   "name": "python3"
  },
  "language_info": {
   "codemirror_mode": {
    "name": "ipython",
    "version": 3
   },
   "file_extension": ".py",
   "mimetype": "text/x-python",
   "name": "python",
   "nbconvert_exporter": "python",
   "pygments_lexer": "ipython3",
   "version": "3.11.10"
  }
 },
 "nbformat": 4,
 "nbformat_minor": 5
}
