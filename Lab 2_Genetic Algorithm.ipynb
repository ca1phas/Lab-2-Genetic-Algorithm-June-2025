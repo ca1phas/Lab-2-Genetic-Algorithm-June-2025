{
 "cells": [
  {
   "cell_type": "markdown",
   "id": "19195cbc",
   "metadata": {},
   "source": [
    "# Artificial Intelligence\n",
    "## UEMH3073 / UECS2053 / UECS2153\n",
    "\n",
    "# Lab 2: Genetic Algorithm"
   ]
  },
  {
   "cell_type": "markdown",
   "id": "357d953f",
   "metadata": {},
   "source": [
    "This notebook is an assignment requiring you to investigate the Travelling Salesman Problem. Guidance is provided so you can understand what needs to be done for this assignment as you follow through this lab. Convenience classes and functions/ methods are provided.\n",
    "\n",
    "You will encounter #TODO in the code cells explaining tasks you need to complete. In other words, you will need to write codes and accomplish the #TODO tasks so that the genetic algorithm functions well and runs correctly. Look for \"Replacement starts here\" and \"Replacement ends here\" to know the parts of the codes requiring your inputs.\n",
    "    \n",
    "\n",
    "The #TODO tasks and their marks distribution are as follows:\n",
    " \n",
    "a. #TODO1 (10 marks) in the Population Initialization function. You will read a set of cities from the filename when creating an initial population. \n",
    "\n",
    "b. #TODO2 (10 marks) in the Parent Selection function. You will replace a dummy parent selection function with Tournament Selection. \n",
    "\n",
    "c. #TODO3 (10 marks) in the Parent Selection function. You will replace a dummy parent selection function with Proportional Selection.\n",
    "\n",
    "d. #TODO4 (10 marks) in the Survival Selection function. You will replace the dummy survival selection function with Merge, Sort & Truncate. \n",
    "    \n",
    "e. #TODO5 (10 marks) in the Crossover function. You will replace the dummy crossover function the Partially Mapped Crossover approach.\n",
    "\n",
    "f. #TODO6 (10 marks) in the Mutation function. You will replace the dummy mutation function with Insertion Mutation approach. \n",
    "\n",
    "g. #TODO7 (10 marks) in Performance Evaluation. You will present performance evaluation for the different Parent Selection functions. \n",
    "\n",
    "Marks are also given for: Report Presentation and Formatting (15%) and Code Quality and Comments (15%). More details about this notebook and assignment are provided in your lab sheet."
   ]
  },
  {
   "cell_type": "markdown",
   "id": "3a397f6c",
   "metadata": {},
   "source": [
    "## An Overview of the Travelling Salesman Problem"
   ]
  },
  {
   "cell_type": "markdown",
   "id": "770d5880",
   "metadata": {},
   "source": [
    "In the travelling salesman problem, a salesperson wish to find the shortest path that passes through all cities s/he wishes to visit given the coordinates of a set of cities. The salesperson should visit each of the cities once only, and so:\n",
    "\n",
    "a. Each path consists all cities in the set.\n",
    "\n",
    "b. Each path visits each of the cities once only. So, none of the cities are visited more than once. "
   ]
  },
  {
   "cell_type": "markdown",
   "id": "0d5d37c8",
   "metadata": {},
   "source": [
    "## Imports"
   ]
  },
  {
   "cell_type": "code",
   "execution_count": 2,
   "id": "86227049",
   "metadata": {},
   "outputs": [],
   "source": [
    "%matplotlib inline\n",
    "\n",
    "# Please add more imports if you need them \n",
    "\n",
    "import random\n",
    "import time\n",
    "import csv\n",
    "\n",
    "import numpy as np\n",
    "import pandas as pd\n",
    "import matplotlib.pyplot as plt\n",
    "\n",
    "from pprint import pprint as print "
   ]
  },
  {
   "cell_type": "markdown",
   "id": "420ef0f6",
   "metadata": {},
   "source": [
    "## Convenience Classes"
   ]
  },
  {
   "cell_type": "markdown",
   "id": "c8335dc9",
   "metadata": {},
   "source": [
    "### City"
   ]
  },
  {
   "cell_type": "markdown",
   "id": "793d7c06",
   "metadata": {},
   "source": [
    "The City class, which represents a city, possesses the properties of the city and has functions/ methods used for calculating the distance between the city and another city. Each path, represented by a chromosome, is formed by a set of cities.   "
   ]
  },
  {
   "cell_type": "code",
   "execution_count": 3,
   "id": "6a3d4ad0",
   "metadata": {},
   "outputs": [],
   "source": [
    "class City:\n",
    "    def __init__(self, x, y):\n",
    "        self.x = x\n",
    "        self.y = y\n",
    "        \n",
    "    def distance(self, city):\n",
    "        xDis = abs(self.x - city.x)\n",
    "        yDis = abs(self.y - city.y)\n",
    "        distance = np.sqrt((xDis ** 2) + (yDis ** 2))\n",
    "        return distance\n",
    "    \n",
    "    def __repr__(self):\n",
    "        return \"(\" + str(self.x) + \",\" + str(self.y) + \")\""
   ]
  },
  {
   "cell_type": "markdown",
   "id": "17c39cd9",
   "metadata": {},
   "source": [
    "### Fitness"
   ]
  },
  {
   "cell_type": "markdown",
   "id": "d1337f65",
   "metadata": {},
   "source": [
    "The Fitness class, which represents the fitness function, possesses the properties of a path and has functions/methods used for calculating the fitness value of the path, which is based on the distance of the path. "
   ]
  },
  {
   "cell_type": "code",
   "execution_count": 4,
   "id": "b9eca58a",
   "metadata": {},
   "outputs": [],
   "source": [
    "class Fitness:\n",
    "    def __init__(self, route):\n",
    "        self.route = route\n",
    "        self.distance = None\n",
    "        self.fitness = None\n",
    "    \n",
    "    def routeDistance(self):\n",
    "        if self.distance == None:\n",
    "            pathDistance = 0.0\n",
    "            for i in range(0, len(self.route)):\n",
    "                fromCity = self.route[i]\n",
    "                toCity = None\n",
    "                if i+1 < len(self.route):\n",
    "                    toCity = self.route[i+1]\n",
    "                else:\n",
    "                    toCity = self.route[0]\n",
    "                pathDistance += fromCity.distance(toCity)\n",
    "            self.distance = pathDistance\n",
    "        return self.distance\n",
    "    \n",
    "    def routeFitness(self):\n",
    "        if self.fitness == None:\n",
    "        # Fitness function (Simple division) that uses a simple \n",
    "        # division that divides one by the distance of the path\n",
    "            self.fitness = 1 / float(self.routeDistance()) \n",
    "            # Note: You must ensure a division by zero does not occur \n",
    "        return self.fitness\n"
   ]
  },
  {
   "cell_type": "markdown",
   "id": "e9ecd81d",
   "metadata": {},
   "source": [
    "## Population Initialization  "
   ]
  },
  {
   "cell_type": "markdown",
   "id": "02544afb",
   "metadata": {},
   "source": [
    "The population initialization function (or method) performs random initialization. This creates an initial population with completely random chromosomes (or solutions). There are three functions related to population initialization. \n",
    "\n",
    "The first function is genCityList() which generates a set of cities from a file.  "
   ]
  },
  {
   "cell_type": "code",
   "execution_count": 5,
   "id": "9d39ed7e",
   "metadata": {},
   "outputs": [],
   "source": [
    "def genCityList(filename):\n",
    "    cityList = []\n",
    "    \n",
    "    # TODO 1 (10 marks) - Replace the following codes that generate 10 random cities.\n",
    "    # Your new implementation must read a set of cities from the filename to be used for creating \n",
    "    # an initial population.  \n",
    "    \n",
    "    # Marking scheme: \n",
    "    # 7 to 10 marks:  Correct implementation. \n",
    "    # 5 to <7 marks:  Minor errors with slight effects on the fitness value.\n",
    "    # >0 to <5 marks: Major errors with significant effects on the fitness value. \n",
    "    # 0 marks:        No answer is given. \n",
    "    \n",
    "    # Replacement starts here\n",
    "    \n",
    "    # Read cities from CSV file into a DataFrame\n",
    "    citiesDF = pd.read_csv(filename)\n",
    "\n",
    "    # Create a list of City objects from the X, Y columns\n",
    "    cityList = [City(X, Y) for _, X, Y in citiesDF.itertuples(index=False)]\n",
    "    \n",
    "    # Replacement ends here\n",
    "    \n",
    "    return cityList\n",
    "\n"
   ]
  },
  {
   "cell_type": "markdown",
   "id": "e4888778",
   "metadata": {},
   "source": [
    "The second function is createRoute() which generates a random route (chromosome) from a set of City instances."
   ]
  },
  {
   "cell_type": "code",
   "execution_count": 6,
   "id": "1f9ac614",
   "metadata": {},
   "outputs": [],
   "source": [
    "def createRoute(cityList):\n",
    "    route = random.sample(cityList, len(cityList))\n",
    "    return route"
   ]
  },
  {
   "cell_type": "markdown",
   "id": "f0c11bbb",
   "metadata": {},
   "source": [
    "The third function is initialPopulation() which calls the second function repeatedly to create an initial population (a list of routes)."
   ]
  },
  {
   "cell_type": "code",
   "execution_count": 7,
   "id": "4ae07df2",
   "metadata": {},
   "outputs": [],
   "source": [
    "def initialPopulation(popSize, cityList):\n",
    "    population = []\n",
    "    for i in range(0, popSize):\n",
    "        population.append(createRoute(cityList))\n",
    "    return population"
   ]
  },
  {
   "cell_type": "markdown",
   "id": "ed5c9a1d",
   "metadata": {},
   "source": [
    "You can run the above functions using the sample runs below. To do so, simply change the cell type from Markdown to Code.\n",
    "\n",
    "Sample run 1 initializes 10 cities in cityList as follows:"
   ]
  },
  {
   "cell_type": "markdown",
   "id": "dbce56f2",
   "metadata": {},
   "source": [
    "cityList = genCityList('cities10.txt') \n",
    "print(cityList)"
   ]
  },
  {
   "cell_type": "markdown",
   "id": "00b4e341",
   "metadata": {},
   "source": [
    "Sample run 2 initializes 10 cities in cityList and creates a population with three routes as follows:"
   ]
  },
  {
   "cell_type": "markdown",
   "id": "e7f8538a",
   "metadata": {},
   "source": [
    "cityList = genCityList('cities10.txt') \n",
    "population = initialPopulation(3, cityList) \n",
    "print(population)"
   ]
  },
  {
   "cell_type": "markdown",
   "id": "f8aac59f",
   "metadata": {},
   "source": [
    "## Selection"
   ]
  },
  {
   "cell_type": "markdown",
   "id": "cb5cfd2d",
   "metadata": {},
   "source": [
    "Parents selection selects chromosomes with high fitness values from a population. Survivor selection selects chromosomes with higher fitness values to form the population of the next generation. The population size is len(population), so we have len(population) in this population. "
   ]
  },
  {
   "cell_type": "markdown",
   "id": "91040238",
   "metadata": {},
   "source": [
    "### Parent Selection\n",
    "\n",
    "There are three implementations for parent selection. The first parentSelection() performs random selection."
   ]
  },
  {
   "cell_type": "code",
   "execution_count": 8,
   "id": "3add27f7",
   "metadata": {},
   "outputs": [],
   "source": [
    "def randomSelection(population, poolSize=None):\n",
    "    if poolSize == None:\n",
    "        poolSize = len(population)\n",
    "        \n",
    "    matingPool = []\n",
    "    \n",
    "    for i in range(0, poolSize):\n",
    "        fitness = Fitness(population[i]).routeFitness()\n",
    "        matingPool.append(random.choice(population))\n",
    "      \n",
    "    return matingPool"
   ]
  },
  {
   "cell_type": "markdown",
   "id": "7d7aedb6",
   "metadata": {},
   "source": [
    "The second parentSelection() performs Tournament Selection."
   ]
  },
  {
   "cell_type": "code",
   "execution_count": 9,
   "id": "53e6ed39",
   "metadata": {},
   "outputs": [],
   "source": [
    "def tournamentSelection(population, poolSize=None, tournament_size=3):\n",
    "\n",
    "    # TODO 2 (10 marks) - Replace the dummy parent selection function below with\n",
    "    # Tournament Selection.\n",
    "\n",
    "    # Marking scheme:\n",
    "    # 7 to 10 marks:  Correct implementation.\n",
    "    # 5 to <7 marks:  Minor errors.\n",
    "    # >0 to <5 marks: Major errors.\n",
    "    # 0 marks:        No answer is given.\n",
    "\n",
    "    # You will need to compare the performance achieved by Random Selection,\n",
    "    # Tournament Selection, and Proportional Selection during performance evaluation\n",
    "    # later. So, you will run either Random Selection, Tournament Selection, or\n",
    "    # Proportional Selection in a simulation run.\n",
    "\n",
    "    if poolSize == None:\n",
    "        poolSize = len(population)\n",
    "\n",
    "    matingPool = []\n",
    "\n",
    "    # Replacement starts here\n",
    "\n",
    "    # For each selection, randomly pick tournament_size individuals and select the best (highest fitness)\n",
    "    for _ in range(poolSize):\n",
    "        # randomly pick tournament_size individuals\n",
    "        routes = random.sample(population, tournament_size)\n",
    "\n",
    "        # select the best (highest fitness)\n",
    "        winner = max(routes, key=lambda route: Fitness(route).routeFitness())\n",
    "        matingPool.append(winner)\n",
    "    \n",
    "    # Replacement ends here\n",
    "\n",
    "    return matingPool"
   ]
  },
  {
   "cell_type": "markdown",
   "id": "4bb238e2",
   "metadata": {},
   "source": [
    "The third parentSelection() performs Proportional Selection."
   ]
  },
  {
   "cell_type": "code",
   "execution_count": 10,
   "id": "2ccaef4a",
   "metadata": {},
   "outputs": [],
   "source": [
    "def proportionalSelection(population, poolSize=None):\n",
    "    \n",
    "    # TODO 3 (10 marks) - Replace the dummy parent selection function below with  \n",
    "    # Proportional Selection.\n",
    "      \n",
    "    # Marking scheme: \n",
    "    # 7 to 10 marks:  Correct implementation. \n",
    "    # 5 to <7 marks:  Minor errors.\n",
    "    # >0 to <5 marks: Major errors. \n",
    "    # 0 marks:        No answer is given. \n",
    "    \n",
    "    # You will need to compare the performance achieved by Random Selection, \n",
    "    # Tournament Selection, and Proportional Selection during performance evaluation \n",
    "    # later. So, you will run either Random Selection, Tournament Selection, or \n",
    "    # Proportional Selection in a simulation run.\n",
    "    \n",
    "    if poolSize == None:\n",
    "        poolSize = len(population)\n",
    "        \n",
    "    matingPool = []\n",
    "    \n",
    "    # Replacement starts here\n",
    "\n",
    "    # Calculate total fitness of the population\n",
    "    total_fitness = sum([Fitness(route).routeFitness() for route in population])\n",
    "\n",
    "    # If total fitness is zero, select randomly to avoid division by zero\n",
    "    if (total_fitness == 0):\n",
    "        return random.choices(population, k=poolSize)\n",
    "    \n",
    "    # For each selection, pick a random number and select route based on cumulative fitness\n",
    "    for _ in range(poolSize):\n",
    "        # pick a random number\n",
    "        r = random.uniform(0, total_fitness)\n",
    "        \n",
    "        # select route based on cumulative fitness\n",
    "        cum_sum = 0\n",
    "        for i, route in enumerate(population):\n",
    "            cum_sum += Fitness(route).routeFitness()\n",
    "            if cum_sum >= r:\n",
    "                matingPool.append(route)\n",
    "                break\n",
    "    \n",
    "    # Replacement ends here\n",
    "    \n",
    "    return matingPool"
   ]
  },
  {
   "cell_type": "markdown",
   "id": "767df4e1",
   "metadata": {},
   "source": [
    "### Survival Selection"
   ]
  },
  {
   "cell_type": "code",
   "execution_count": 11,
   "id": "80f74e5a",
   "metadata": {},
   "outputs": [],
   "source": [
    "def survivorSelection(population, eliteSize):\n",
    "\n",
    "    # TODO 4 (10 marks) - Replace the dummy survival selection function below with\n",
    "    # Merge, Sort & Truncate.\n",
    "\n",
    "    # Marking scheme:\n",
    "    # 7 to 10 marks:  Correct implementation.\n",
    "    # 5 to <7 marks:  Minor errors.\n",
    "    # >0 to <5 marks: Major errors.\n",
    "    # 0 marks:        No answer is given.\n",
    "\n",
    "    elites = []\n",
    "\n",
    "    # Replacement starts here\n",
    "\n",
    "    # Sort population by fitness in descending order\n",
    "    sorted_population = sorted(population, key=lambda route: Fitness(route).routeFitness(), reverse=True)\n",
    "\n",
    "    # Select the top eliteSize individuals as elites\n",
    "    elites = sorted_population[:eliteSize]\n",
    "    \n",
    "    # Replacement ends here\n",
    "\n",
    "    return elites"
   ]
  },
  {
   "cell_type": "markdown",
   "id": "c003d631",
   "metadata": {},
   "source": [
    "You can run the above functions using the sample runs below. To do so, simply change the cell type from Markdown to Code. \n",
    "\n",
    "Sample run 1 initializes 10 cities in cityList, creates a population with four routes, and creates a pool of parents as follows:"
   ]
  },
  {
   "cell_type": "markdown",
   "id": "cb064cc7",
   "metadata": {},
   "source": [
    "population = initialPopulation(4, genCityList('cities10.txt'))\n",
    "matingpool = parentSelection(population, 4) \n",
    "print('Initial population') \n",
    "print(population) \n",
    "print('Mating pool') \n",
    "print(matingpool)"
   ]
  },
  {
   "cell_type": "markdown",
   "id": "c4431342",
   "metadata": {},
   "source": [
    "Sample run 2 initializes 10 cities in cityList, creates a population with four routes, select an elite chromosome as follows:"
   ]
  },
  {
   "cell_type": "markdown",
   "id": "d5a0593b",
   "metadata": {},
   "source": [
    "population = initialPopulation(4, genCityList('cities10.txt'))\n",
    "elites = survivorSelection(population, 1)\n",
    "print('Initial population')\n",
    "print(population)\n",
    "print('Selected elites')\n",
    "print(elites)"
   ]
  },
  {
   "cell_type": "code",
   "execution_count": 12,
   "id": "2bb0c8be",
   "metadata": {},
   "outputs": [],
   "source": [
    "def crossover(parent1, parent2, cx_points):\n",
    "\n",
    "    # TODO 5 (10 marks) - Replace the dummy crossover function below with\n",
    "    # Partially Mapped Crossover approach.\n",
    "\n",
    "    # Marking scheme:\n",
    "    # 7 to 10 marks:  Correct implementation.\n",
    "    # 5 to <7 marks:  Minor errors.\n",
    "    # >0 to <5 marks: Major errors.\n",
    "    # 0 marks:        No answer is given.\n",
    "\n",
    "    # Replacement starts here\n",
    "    size = len(parent1)\n",
    "\n",
    "    # Initialize children\n",
    "    child1 = [None] * size\n",
    "    child2 = [None] * size\n",
    "\n",
    "    # Set crossover points\n",
    "    cx_point1, cx_point2 = cx_points\n",
    "\n",
    "    # Copy the crossover slice from parents to children\n",
    "    child1[cx_point1 : cx_point2] = parent1[cx_point1 : cx_point2]\n",
    "    child2[cx_point1 : cx_point2] = parent2[cx_point1 : cx_point2]\n",
    "\n",
    "    def fill_child(child, parent_a, parent_b):\n",
    "        # Fill the rest of the child with genes from parent_b\n",
    "        for i in (*range(0, cx_point1), *range(cx_point2, size)):\n",
    "            gene = parent_b[i]\n",
    "            \n",
    "            # Map genes to avoid duplicates based on the crossover segment in parent_a\n",
    "            while gene in parent_a[cx_point1:cx_point2]:\n",
    "                gene = parent_b[parent_a.index(gene)]\n",
    "            \n",
    "            child[i] = gene\n",
    "        return child\n",
    "\n",
    "    # Complete children by filling in remaining genes\n",
    "    child1 = fill_child(child1, parent1, parent2)\n",
    "    child2 = fill_child(child2, parent2, parent1)\n",
    "\n",
    "    # Replacement ends here\n",
    "\n",
    "    return child1, child2"
   ]
  },
  {
   "cell_type": "markdown",
   "id": "ebba82a2",
   "metadata": {},
   "source": [
    "## Crossover\n"
   ]
  },
  {
   "cell_type": "markdown",
   "id": "3c655d11",
   "metadata": {},
   "source": [
    "Crossover selects two parents, crossover the genetic materials of the parents, and produce one or more children. In the Travelling Salesman Problem, each travelling path must be valid. Each path consists all cities in the set, and each path visits each of the cities once only. So, none of the cities are visited more than once. Exchanging parts of two chromosomes tend to produce invalid paths. As an example, Parent 1 is [2 1 0 7 3 5 4 6] and Parent 2 is [6 1 0 5 2 3 4 7]. One point crossover at midpoint generates Child 1 [2 1 0 7 2 3 4 7] and Child 2 [6 1 0 5 3 5 4 6]. Both children are invalid paths.     "
   ]
  },
  {
   "cell_type": "markdown",
   "id": "48ca735c",
   "metadata": {},
   "source": [
    "Crossover selects two parents from the mating pool to produce a new generation of the same size."
   ]
  },
  {
   "cell_type": "code",
   "execution_count": 13,
   "id": "308e4680",
   "metadata": {},
   "outputs": [],
   "source": [
    "def breedPopulation(matingpool, cx_points):\n",
    "    children = []\n",
    "    # Choosing parents in their order of presence in the mating pool. Choosing parents\n",
    "    # in a random manner is possible. \n",
    "    \n",
    "    for i in range(1, len(matingpool), 2):\n",
    "        child1, child2 = crossover(matingpool[i-1], matingpool[i], cx_points)\n",
    "        children.append(child1)\n",
    "        children.append(child2)\n",
    "    \n",
    "    return children"
   ]
  },
  {
   "cell_type": "markdown",
   "id": "2152fd9e",
   "metadata": {},
   "source": [
    "You can run the above functions using the sample run below. To do so, simply change the cell type from Markdown to Code. The sample run initializes 2 chromosomes in the population, and performs crossover among the two parents. "
   ]
  },
  {
   "cell_type": "markdown",
   "id": "7b02b58d",
   "metadata": {},
   "source": [
    "population = initialPopulation(2, genCityList('cities10.txt'))\n",
    "parent1, parent2 = population\n",
    "child1, child2 = crossover(parent1, parent2)\n",
    "print('Parents')\n",
    "print(parent1)\n",
    "print(parent2)\n",
    "print('Children')\n",
    "print(child1)\n",
    "print(child2)"
   ]
  },
  {
   "cell_type": "markdown",
   "id": "0508e984",
   "metadata": {},
   "source": [
    "## Mutation"
   ]
  },
  {
   "cell_type": "markdown",
   "id": "e741bcba",
   "metadata": {},
   "source": [
    "Mutation mutates a single chromosome to get a mutated chromosome so that genetic algorithm can converge to a shorter path quickly. In the Travelling Salesman Problem, a mutated chromosome must be a valid path. As an example, the insertion mutation randomly inserts a single gene in the [1 2 3 4 5 6 7 8 9 10] chromosome to generate the [1 2 4 5 6 7 3 8 9 10] mutated chromosome. Step 1: select a gene randomly, Step 2: insert this gene into a randomly selected location."
   ]
  },
  {
   "cell_type": "code",
   "execution_count": 14,
   "id": "fcc4c53b",
   "metadata": {},
   "outputs": [],
   "source": [
    "def mutate(route, mutationProbability):\n",
    "    \n",
    "    # TODO 6 (10 marks) - Replace the dummy mutation function below with Insertion Mutation.\n",
    "    # The dummy mutation function simply swaps a city with the city before it.  \n",
    "   \n",
    "    # Marking scheme: \n",
    "    # 7 to 10 marks:  Correct implementation. \n",
    "    # 5 to <7 marks:  Minor errors.\n",
    "    # >0 to <5 marks: Major errors. \n",
    "    # 0 marks:        No answer is given. \n",
    "     \n",
    "    mutated_route = route[:]\n",
    "    for i in range(len(route)):\n",
    "        if (random.random() < mutationProbability):\n",
    "            # mutationProbability is the probability of a gene undergoing mutation\n",
    "            \n",
    "            # Replacement starts here\n",
    "\n",
    "            # Remove the city at index i\n",
    "            city = mutated_route.pop(i)\n",
    "\n",
    "            # Re-insert it at a random position in the route\n",
    "            insert_index = random.randint(0, len(mutated_route))\n",
    "            mutated_route.insert(insert_index, city)\n",
    "            \n",
    "            # Replacement ends here\n",
    "    return mutated_route"
   ]
  },
  {
   "cell_type": "markdown",
   "id": "561658a7",
   "metadata": {},
   "source": [
    "Mutation runs over the entire population and mutates each chromosome in the population with a small mutationProbability. "
   ]
  },
  {
   "cell_type": "code",
   "execution_count": 15,
   "id": "18bcf873",
   "metadata": {},
   "outputs": [],
   "source": [
    "def mutation(population, mutationProbability):\n",
    "    mutatedPopulation = []\n",
    "    for i in range(0, len(population)):\n",
    "        mutatedIndividual = mutate(population[i], mutationProbability)\n",
    "        mutatedPopulation.append(mutatedIndividual)\n",
    "    return mutatedPopulation"
   ]
  },
  {
   "cell_type": "markdown",
   "id": "e2c7728f",
   "metadata": {},
   "source": [
    "You can run the above functions using the sample run below. To do so, simply change the cell type from Markdown to Code. The sample run initializes a route comprised of 10 cities in cityList, and then mutates it as follows:"
   ]
  },
  {
   "cell_type": "markdown",
   "id": "4b9fa051",
   "metadata": {},
   "source": [
    "route = genCityList('cities10.txt')\n",
    "mutated = mutate(route, 1)  # Give a pretty high chance for mutation\n",
    "print('Original route')\n",
    "print(route)\n",
    "print('Mutated route')\n",
    "print(mutated)"
   ]
  },
  {
   "cell_type": "markdown",
   "id": "1c0cf960",
   "metadata": {},
   "source": [
    "## Running One Generation (or Iteration)"
   ]
  },
  {
   "cell_type": "markdown",
   "id": "2e4e26f5",
   "metadata": {},
   "source": [
    "Here, we run one generation of genetic algorithm. "
   ]
  },
  {
   "cell_type": "code",
   "execution_count": 16,
   "id": "57f76661",
   "metadata": {},
   "outputs": [],
   "source": [
    "def oneGeneration(population, eliteSize, mutationProbability, parentSelection, cx_points):\n",
    "    \n",
    "    # First we preserve the elites\n",
    "    elites = survivorSelection(population, eliteSize)\n",
    "    \n",
    "    # Then we calculate what our mating pool size should be and generate\n",
    "    # the mating pool\n",
    "    poolSize = len(population) - eliteSize\n",
    "    matingpool = parentSelection(population, poolSize) # Change your parent selection method here\n",
    "        \n",
    "    # Then we perform crossover on the mating pool\n",
    "    children = breedPopulation(matingpool, cx_points)\n",
    "    \n",
    "    # We combine the elites and children into one population\n",
    "    new_population = elites + children\n",
    "    \n",
    "    # We mutate the population\n",
    "    mutated_population = mutation(new_population, mutationProbability)\n",
    "        \n",
    "    return mutated_population"
   ]
  },
  {
   "cell_type": "markdown",
   "id": "daa87ed8",
   "metadata": {},
   "source": [
    "You can run the above functions using the sample run below. To do so, simply change the cell type from Markdown to Code. The sample run initializes a population comprised of 5 chromosomes based on 10 cities in cityList, and then run one generation (or iteration) of genetic algorithm as follows:"
   ]
  },
  {
   "cell_type": "markdown",
   "id": "0f2a347b",
   "metadata": {},
   "source": [
    "population = initialPopulation(5, genCityList('cities10.txt'))\n",
    "eliteSize = 1\n",
    "mutationProbability = 0.01\n",
    "new_population = oneGeneration(population, eliteSize, mutationProbability)\n",
    "print('Initial population')\n",
    "print(population)\n",
    "print('New population')\n",
    "print(new_population)"
   ]
  },
  {
   "cell_type": "markdown",
   "id": "500893f7",
   "metadata": {},
   "source": [
    "## Running Many Generations (or Iterations) "
   ]
  },
  {
   "cell_type": "code",
   "execution_count": 23,
   "id": "cc61b752",
   "metadata": {},
   "outputs": [
    {
     "name": "stdout",
     "output_type": "stream",
     "text": [
      "'1/48'\n",
      "True\n",
      "'2/48'\n",
      "True\n",
      "'3/48'\n",
      "True\n",
      "'4/48'\n"
     ]
    },
    {
     "ename": "KeyboardInterrupt",
     "evalue": "",
     "output_type": "error",
     "traceback": [
      "\u001b[1;31m---------------------------------------------------------------------------\u001b[0m",
      "\u001b[1;31mKeyboardInterrupt\u001b[0m                         Traceback (most recent call last)",
      "Cell \u001b[1;32mIn[23], line 89\u001b[0m\n\u001b[0;32m     80\u001b[0m \u001b[38;5;28mprint\u001b[39m(\u001b[38;5;124mf\u001b[39m\u001b[38;5;124m\"\u001b[39m\u001b[38;5;132;01m{\u001b[39;00mfigcount\u001b[38;5;132;01m}\u001b[39;00m\u001b[38;5;124m/\u001b[39m\u001b[38;5;132;01m{\u001b[39;00mtotal_combinations\u001b[38;5;132;01m}\u001b[39;00m\u001b[38;5;124m\"\u001b[39m)\n\u001b[0;32m     81\u001b[0m hyperparams \u001b[38;5;241m=\u001b[39m {\n\u001b[0;32m     82\u001b[0m     \u001b[38;5;124m\"\u001b[39m\u001b[38;5;124mParent Selection\u001b[39m\u001b[38;5;124m\"\u001b[39m: parentSelection,\n\u001b[0;32m     83\u001b[0m     \u001b[38;5;124m\"\u001b[39m\u001b[38;5;124mPopulation Size\u001b[39m\u001b[38;5;124m\"\u001b[39m: popSize,\n\u001b[1;32m   (...)\u001b[0m\n\u001b[0;32m     86\u001b[0m     \u001b[38;5;124m\"\u001b[39m\u001b[38;5;124mCrossover Points\u001b[39m\u001b[38;5;124m\"\u001b[39m: cx_points,\n\u001b[0;32m     87\u001b[0m }\n\u001b[1;32m---> 89\u001b[0m progress, best_route, best_route_dist \u001b[38;5;241m=\u001b[39m geneticAlgorithm(\n\u001b[0;32m     90\u001b[0m     cityList,\n\u001b[0;32m     91\u001b[0m     iteration_limit,\n\u001b[0;32m     92\u001b[0m     hyperparams,\n\u001b[0;32m     93\u001b[0m )\n\u001b[0;32m     94\u001b[0m best_routes_info\u001b[38;5;241m.\u001b[39mappend(\n\u001b[0;32m     95\u001b[0m     (\n\u001b[0;32m     96\u001b[0m         best_route,\n\u001b[1;32m   (...)\u001b[0m\n\u001b[0;32m    103\u001b[0m     )\n\u001b[0;32m    104\u001b[0m )\n\u001b[0;32m    105\u001b[0m plot(progress, \u001b[38;5;124m\"\u001b[39m\u001b[38;5;124mDistance\u001b[39m\u001b[38;5;124m\"\u001b[39m, \u001b[38;5;124m\"\u001b[39m\u001b[38;5;124mIterations\u001b[39m\u001b[38;5;124m\"\u001b[39m, hyperparams, \u001b[38;5;28mstr\u001b[39m(figcount))\n",
      "Cell \u001b[1;32mIn[23], line 31\u001b[0m, in \u001b[0;36mgeneticAlgorithm\u001b[1;34m(cityList, iteration_limit, hyperparams)\u001b[0m\n\u001b[0;32m     28\u001b[0m progress \u001b[38;5;241m=\u001b[39m []\n\u001b[0;32m     30\u001b[0m \u001b[38;5;28;01mfor\u001b[39;00m i \u001b[38;5;129;01min\u001b[39;00m \u001b[38;5;28mrange\u001b[39m(iteration_limit):\n\u001b[1;32m---> 31\u001b[0m     population \u001b[38;5;241m=\u001b[39m oneGeneration(\n\u001b[0;32m     32\u001b[0m         population,\n\u001b[0;32m     33\u001b[0m         hyperparams[\u001b[38;5;124m\"\u001b[39m\u001b[38;5;124mElite Size\u001b[39m\u001b[38;5;124m\"\u001b[39m],\n\u001b[0;32m     34\u001b[0m         hyperparams[\u001b[38;5;124m\"\u001b[39m\u001b[38;5;124mMutation Probability\u001b[39m\u001b[38;5;124m\"\u001b[39m],\n\u001b[0;32m     35\u001b[0m         hyperparams[\u001b[38;5;124m\"\u001b[39m\u001b[38;5;124mParent Selection\u001b[39m\u001b[38;5;124m\"\u001b[39m],\n\u001b[0;32m     36\u001b[0m         hyperparams[\u001b[38;5;124m\"\u001b[39m\u001b[38;5;124mCrossover Points\u001b[39m\u001b[38;5;124m\"\u001b[39m],\n\u001b[0;32m     37\u001b[0m     )\n\u001b[0;32m     38\u001b[0m     distances \u001b[38;5;241m=\u001b[39m [Fitness(p)\u001b[38;5;241m.\u001b[39mrouteDistance() \u001b[38;5;28;01mfor\u001b[39;00m p \u001b[38;5;129;01min\u001b[39;00m population]\n\u001b[0;32m     39\u001b[0m     index \u001b[38;5;241m=\u001b[39m np\u001b[38;5;241m.\u001b[39margmin(distances)\n",
      "Cell \u001b[1;32mIn[16], line 4\u001b[0m, in \u001b[0;36moneGeneration\u001b[1;34m(population, eliteSize, mutationProbability, parentSelection, cx_points)\u001b[0m\n\u001b[0;32m      1\u001b[0m \u001b[38;5;28;01mdef\u001b[39;00m \u001b[38;5;21moneGeneration\u001b[39m(population, eliteSize, mutationProbability, parentSelection, cx_points):\n\u001b[0;32m      2\u001b[0m     \n\u001b[0;32m      3\u001b[0m     \u001b[38;5;66;03m# First we preserve the elites\u001b[39;00m\n\u001b[1;32m----> 4\u001b[0m     elites \u001b[38;5;241m=\u001b[39m survivorSelection(population, eliteSize)\n\u001b[0;32m      6\u001b[0m     \u001b[38;5;66;03m# Then we calculate what our mating pool size should be and generate\u001b[39;00m\n\u001b[0;32m      7\u001b[0m     \u001b[38;5;66;03m# the mating pool\u001b[39;00m\n\u001b[0;32m      8\u001b[0m     poolSize \u001b[38;5;241m=\u001b[39m \u001b[38;5;28mlen\u001b[39m(population) \u001b[38;5;241m-\u001b[39m eliteSize\n",
      "Cell \u001b[1;32mIn[11], line 17\u001b[0m, in \u001b[0;36msurvivorSelection\u001b[1;34m(population, eliteSize)\u001b[0m\n\u001b[0;32m     12\u001b[0m elites \u001b[38;5;241m=\u001b[39m []\n\u001b[0;32m     14\u001b[0m \u001b[38;5;66;03m# Replacement starts here\u001b[39;00m\n\u001b[0;32m     15\u001b[0m \n\u001b[0;32m     16\u001b[0m \u001b[38;5;66;03m# Sort population by fitness in descending order\u001b[39;00m\n\u001b[1;32m---> 17\u001b[0m sorted_population \u001b[38;5;241m=\u001b[39m \u001b[38;5;28msorted\u001b[39m(population, key\u001b[38;5;241m=\u001b[39m\u001b[38;5;28;01mlambda\u001b[39;00m route: Fitness(route)\u001b[38;5;241m.\u001b[39mrouteFitness(), reverse\u001b[38;5;241m=\u001b[39m\u001b[38;5;28;01mTrue\u001b[39;00m)\n\u001b[0;32m     19\u001b[0m \u001b[38;5;66;03m# Select the top eliteSize individuals as elites\u001b[39;00m\n\u001b[0;32m     20\u001b[0m elites \u001b[38;5;241m=\u001b[39m sorted_population[:eliteSize]\n",
      "Cell \u001b[1;32mIn[11], line 17\u001b[0m, in \u001b[0;36msurvivorSelection.<locals>.<lambda>\u001b[1;34m(route)\u001b[0m\n\u001b[0;32m     12\u001b[0m elites \u001b[38;5;241m=\u001b[39m []\n\u001b[0;32m     14\u001b[0m \u001b[38;5;66;03m# Replacement starts here\u001b[39;00m\n\u001b[0;32m     15\u001b[0m \n\u001b[0;32m     16\u001b[0m \u001b[38;5;66;03m# Sort population by fitness in descending order\u001b[39;00m\n\u001b[1;32m---> 17\u001b[0m sorted_population \u001b[38;5;241m=\u001b[39m \u001b[38;5;28msorted\u001b[39m(population, key\u001b[38;5;241m=\u001b[39m\u001b[38;5;28;01mlambda\u001b[39;00m route: Fitness(route)\u001b[38;5;241m.\u001b[39mrouteFitness(), reverse\u001b[38;5;241m=\u001b[39m\u001b[38;5;28;01mTrue\u001b[39;00m)\n\u001b[0;32m     19\u001b[0m \u001b[38;5;66;03m# Select the top eliteSize individuals as elites\u001b[39;00m\n\u001b[0;32m     20\u001b[0m elites \u001b[38;5;241m=\u001b[39m sorted_population[:eliteSize]\n",
      "Cell \u001b[1;32mIn[4], line 25\u001b[0m, in \u001b[0;36mFitness.routeFitness\u001b[1;34m(self)\u001b[0m\n\u001b[0;32m     21\u001b[0m \u001b[38;5;28;01mdef\u001b[39;00m \u001b[38;5;21mrouteFitness\u001b[39m(\u001b[38;5;28mself\u001b[39m):\n\u001b[0;32m     22\u001b[0m     \u001b[38;5;28;01mif\u001b[39;00m \u001b[38;5;28mself\u001b[39m\u001b[38;5;241m.\u001b[39mfitness \u001b[38;5;241m==\u001b[39m \u001b[38;5;28;01mNone\u001b[39;00m:\n\u001b[0;32m     23\u001b[0m     \u001b[38;5;66;03m# Fitness function (Simple division) that uses a simple \u001b[39;00m\n\u001b[0;32m     24\u001b[0m     \u001b[38;5;66;03m# division that divides one by the distance of the path\u001b[39;00m\n\u001b[1;32m---> 25\u001b[0m         \u001b[38;5;28mself\u001b[39m\u001b[38;5;241m.\u001b[39mfitness \u001b[38;5;241m=\u001b[39m \u001b[38;5;241m1\u001b[39m \u001b[38;5;241m/\u001b[39m \u001b[38;5;28mfloat\u001b[39m(\u001b[38;5;28mself\u001b[39m\u001b[38;5;241m.\u001b[39mrouteDistance()) \n\u001b[0;32m     26\u001b[0m         \u001b[38;5;66;03m# Note: You must ensure a division by zero does not occur \u001b[39;00m\n\u001b[0;32m     27\u001b[0m     \u001b[38;5;28;01mreturn\u001b[39;00m \u001b[38;5;28mself\u001b[39m\u001b[38;5;241m.\u001b[39mfitness\n",
      "Cell \u001b[1;32mIn[4], line 17\u001b[0m, in \u001b[0;36mFitness.routeDistance\u001b[1;34m(self)\u001b[0m\n\u001b[0;32m     15\u001b[0m         \u001b[38;5;28;01melse\u001b[39;00m:\n\u001b[0;32m     16\u001b[0m             toCity \u001b[38;5;241m=\u001b[39m \u001b[38;5;28mself\u001b[39m\u001b[38;5;241m.\u001b[39mroute[\u001b[38;5;241m0\u001b[39m]\n\u001b[1;32m---> 17\u001b[0m         pathDistance \u001b[38;5;241m+\u001b[39m\u001b[38;5;241m=\u001b[39m fromCity\u001b[38;5;241m.\u001b[39mdistance(toCity)\n\u001b[0;32m     18\u001b[0m     \u001b[38;5;28mself\u001b[39m\u001b[38;5;241m.\u001b[39mdistance \u001b[38;5;241m=\u001b[39m pathDistance\n\u001b[0;32m     19\u001b[0m \u001b[38;5;28;01mreturn\u001b[39;00m \u001b[38;5;28mself\u001b[39m\u001b[38;5;241m.\u001b[39mdistance\n",
      "\u001b[1;31mKeyboardInterrupt\u001b[0m: "
     ]
    }
   ],
   "source": [
    "filename = \"cities40.txt\"\n",
    "iteration_limit = 100\n",
    "\n",
    "# Hyperparemeters\n",
    "parentSelections = [randomSelection, tournamentSelection, proportionalSelection]\n",
    "population_sizes = [20, 40]\n",
    "elite_sizes = [5, 10]\n",
    "# crossover_points = [(80, 200), (120, 320)]\n",
    "mutation_probabilities = [0.01, 0.05]\n",
    "crossover_points = [(8, 20), (12, 32)]\n",
    "cityList = genCityList(filename)\n",
    "\n",
    "# TODO 7 (10 marks) - Performance Evaluation. You will present the performance achieved\n",
    "# by different parent selection function. You will compare the\n",
    "# performance achieved by Random Selection, Tournament Selection, and Proportional Selection.\n",
    "\n",
    "# Marking scheme:\n",
    "# 7 to 10 marks:  In-depth performance evaluation. Optimal routes are found.\n",
    "# 5 to <7 marks:  Clear understanding of performance evaluation.\n",
    "# >0 to <5 marks: Inaccurate or unclear understanding of performance evaluation.\n",
    "# 0 marks:        No answer is given.\n",
    "\n",
    "\n",
    "def geneticAlgorithm(cityList, iteration_limit, hyperparams):\n",
    "    population = initialPopulation(popSize, cityList)\n",
    "    best_route = None\n",
    "    best_route_dist = float(\"inf\")\n",
    "    progress = []\n",
    "\n",
    "    for i in range(iteration_limit):\n",
    "        population = oneGeneration(\n",
    "            population,\n",
    "            hyperparams[\"Elite Size\"],\n",
    "            hyperparams[\"Mutation Probability\"],\n",
    "            hyperparams[\"Parent Selection\"],\n",
    "            hyperparams[\"Crossover Points\"],\n",
    "        )\n",
    "        distances = [Fitness(p).routeDistance() for p in population]\n",
    "        index = np.argmin(distances)\n",
    "        min_dist = min(distances)\n",
    "        progress.append(min_dist)\n",
    "\n",
    "        if min_dist < best_route_dist:\n",
    "            best_route_dist = min_dist\n",
    "            best_route = population[index]\n",
    "\n",
    "        # print(\"Best distance for population in iteration \" + str(i) + \": \" + str(min_dist))\n",
    "\n",
    "    # print(\"Optimal path is \" + str(best_route))\n",
    "    # print(\"Optimal distance: \" + str(best_route_dist))\n",
    "\n",
    "    return progress, best_route, best_route_dist\n",
    "\n",
    "\n",
    "def plot(progress, ylabel, xlabel, hyperparams, figname):\n",
    "    fig, (ax_plot, ax_text) = plt.subplots(1, 2, figsize=(12,6))\n",
    "\n",
    "    ax_plot.set(title=f\"{ylabel} vs {xlabel}\", xlabel=xlabel, ylabel=ylabel)\n",
    "    print(len(progress) == iteration_limit)\n",
    "    ax_plot.plot(range(1, iteration_limit+1), progress, color=\"b\", ls=\"-\")\n",
    "\n",
    "    ax_text.axis(\"off\")  # no axes for text box\n",
    "    param_lines = [f\"{k}: {v}\" for k, v in list(hyperparams.items())[1:]]\n",
    "    param_lines.insert(0, f\"Parent Selection: {hyperparams[\"Parent Selection\"].__name__}\")\n",
    "    text_str = \"\\n\".join(param_lines)\n",
    "    ax_text.text(0, 1, text_str, fontsize=12, va=\"top\", ha=\"left\", family=\"monospace\")\n",
    "\n",
    "    plt.savefig(figname + \".png\")\n",
    "\n",
    "\n",
    "# Searching\n",
    "best_routes_info = []\n",
    "total_combinations = len(parentSelections) * len(population_sizes) * len(elite_sizes) * len(mutation_probabilities) * len(crossover_points)\n",
    "figcount = 1\n",
    "for parentSelection in parentSelections:\n",
    "    for popSize in population_sizes:\n",
    "        for eliteSize in elite_sizes:\n",
    "            for mutationProbability in mutation_probabilities:\n",
    "                for cx_points in crossover_points:\n",
    "                    print(f\"{figcount}/{total_combinations}\")\n",
    "                    hyperparams = {\n",
    "                        \"Parent Selection\": parentSelection,\n",
    "                        \"Population Size\": popSize,\n",
    "                        \"Elite Size\": eliteSize,\n",
    "                        \"Mutation Probability\": mutationProbability,\n",
    "                        \"Crossover Points\": cx_points,\n",
    "                    }\n",
    "\n",
    "                    progress, best_route, best_route_dist = geneticAlgorithm(\n",
    "                        cityList,\n",
    "                        iteration_limit,\n",
    "                        hyperparams,\n",
    "                    )\n",
    "                    best_routes_info.append(\n",
    "                        (\n",
    "                            best_route,\n",
    "                            best_route_dist,\n",
    "                            parentSelection.__name__,\n",
    "                            popSize,\n",
    "                            eliteSize,\n",
    "                            mutationProbability,\n",
    "                            cx_points,\n",
    "                        )\n",
    "                    )\n",
    "                    plot(progress, \"Distance\", \"Iterations\", hyperparams, str(figcount))\n",
    "                    figcount += 1\n",
    "\n",
    "\n",
    "best_route_info = max(best_routes_info, key=lambda route_info: route_info[1])\n",
    "print(\"The optimal path is \")\n",
    "print(best_route_info[0])\n",
    "print(f\"Optimal distance: {best_route_info[1]}\")\n",
    "print(f\"Searched using {best_route_info[2]} with the following hyperparameters:\")\n",
    "print(f\"Population Size: {best_route_info[3]}\")\n",
    "print(f\"Elite Size: {best_route_info[4]}\")\n",
    "print(f\"Mutation Probability: {best_route_info[5]}\")\n",
    "print(f\"Crossover points: {best_route_info[6]}\")"
   ]
  },
  {
   "cell_type": "code",
   "execution_count": null,
   "id": "9870cad4",
   "metadata": {},
   "outputs": [],
   "source": []
  }
 ],
 "metadata": {
  "kernelspec": {
   "display_name": "base",
   "language": "python",
   "name": "python3"
  },
  "language_info": {
   "codemirror_mode": {
    "name": "ipython",
    "version": 3
   },
   "file_extension": ".py",
   "mimetype": "text/x-python",
   "name": "python",
   "nbconvert_exporter": "python",
   "pygments_lexer": "ipython3",
   "version": "3.12.7"
  }
 },
 "nbformat": 4,
 "nbformat_minor": 5
}
