{
 "cells": [
  {
   "cell_type": "markdown",
   "id": "19195cbc",
   "metadata": {},
   "source": [
    "# Artificial Intelligence\n",
    "## UEMH3073 / UECS2053 / UECS2153\n",
    "\n",
    "# Lab 2: Genetic Algorithm"
   ]
  },
  {
   "cell_type": "markdown",
   "id": "357d953f",
   "metadata": {},
   "source": [
    "This notebook is an assignment requiring you to investigate the Travelling Salesman Problem. Guidance is provided so you can understand what needs to be done for this assignment as you follow through this lab. Convenience classes and functions/ methods are provided.\n",
    "\n",
    "You will encounter #TODO in the code cells explaining tasks you need to complete. In other words, you will need to write codes and accomplish the #TODO tasks so that the genetic algorithm functions well and runs correctly. Look for \"Replacement starts here\" and \"Replacement ends here\" to know the parts of the codes requiring your inputs.\n",
    "    \n",
    "\n",
    "The #TODO tasks and their marks distribution are as follows:\n",
    " \n",
    "a. #TODO1 (10 marks) in the Population Initialization function. You will read a set of cities from the filename when creating an initial population. \n",
    "\n",
    "b. #TODO2 (10 marks) in the Parent Selection function. You will replace a dummy parent selection function with Tournament Selection. \n",
    "\n",
    "c. #TODO3 (10 marks) in the Parent Selection function. You will replace a dummy parent selection function with Proportional Selection.\n",
    "\n",
    "d. #TODO4 (10 marks) in the Survival Selection function. You will replace the dummy survival selection function with Merge, Sort & Truncate. \n",
    "    \n",
    "e. #TODO5 (10 marks) in the Crossover function. You will replace the dummy crossover function the Partially Mapped Crossover approach.\n",
    "\n",
    "f. #TODO6 (10 marks) in the Mutation function. You will replace the dummy mutation function with Insertion Mutation approach. \n",
    "\n",
    "g. #TODO7 (10 marks) in Performance Evaluation. You will present performance evaluation for the different Parent Selection functions. \n",
    "\n",
    "Marks are also given for: Report Presentation and Formatting (15%) and Code Quality and Comments (15%). More details about this notebook and assignment are provided in your lab sheet."
   ]
  },
  {
   "cell_type": "markdown",
   "id": "3a397f6c",
   "metadata": {},
   "source": [
    "## An Overview of the Travelling Salesman Problem"
   ]
  },
  {
   "cell_type": "markdown",
   "id": "770d5880",
   "metadata": {},
   "source": [
    "In the travelling salesman problem, a salesperson wish to find the shortest path that passes through all cities s/he wishes to visit given the coordinates of a set of cities. The salesperson should visit each of the cities once only, and so:\n",
    "\n",
    "a. Each path consists all cities in the set.\n",
    "\n",
    "b. Each path visits each of the cities once only. So, none of the cities are visited more than once. "
   ]
  },
  {
   "cell_type": "markdown",
   "id": "0d5d37c8",
   "metadata": {},
   "source": [
    "## Imports"
   ]
  },
  {
   "cell_type": "code",
   "execution_count": 34,
   "id": "86227049",
   "metadata": {},
   "outputs": [],
   "source": [
    "%matplotlib inline\n",
    "\n",
    "# Please add more imports if you need them \n",
    "\n",
    "import random\n",
    "import time\n",
    "import csv\n",
    "\n",
    "import numpy as np\n",
    "import pandas as pd\n",
    "import matplotlib.pyplot as plt\n",
    "\n",
    "from pprint import pprint as print "
   ]
  },
  {
   "cell_type": "markdown",
   "id": "420ef0f6",
   "metadata": {},
   "source": [
    "## Convenience Classes"
   ]
  },
  {
   "cell_type": "markdown",
   "id": "c8335dc9",
   "metadata": {},
   "source": [
    "### City"
   ]
  },
  {
   "cell_type": "markdown",
   "id": "793d7c06",
   "metadata": {},
   "source": [
    "The City class, which represents a city, possesses the properties of the city and has functions/ methods used for calculating the distance between the city and another city. Each path, represented by a chromosome, is formed by a set of cities.   "
   ]
  },
  {
   "cell_type": "code",
   "execution_count": 35,
   "id": "6a3d4ad0",
   "metadata": {},
   "outputs": [],
   "source": [
    "class City:\n",
    "    def __init__(self, x, y):\n",
    "        self.x = x\n",
    "        self.y = y\n",
    "        \n",
    "    def distance(self, city):\n",
    "        xDis = abs(self.x - city.x)\n",
    "        yDis = abs(self.y - city.y)\n",
    "        distance = np.sqrt((xDis ** 2) + (yDis ** 2))\n",
    "        return distance\n",
    "    \n",
    "    def __repr__(self):\n",
    "        return \"(\" + str(self.x) + \",\" + str(self.y) + \")\""
   ]
  },
  {
   "cell_type": "markdown",
   "id": "17c39cd9",
   "metadata": {},
   "source": [
    "### Fitness"
   ]
  },
  {
   "cell_type": "markdown",
   "id": "d1337f65",
   "metadata": {},
   "source": [
    "The Fitness class, which represents the fitness function, possesses the properties of a path and has functions/methods used for calculating the fitness value of the path, which is based on the distance of the path. "
   ]
  },
  {
   "cell_type": "code",
   "execution_count": 36,
   "id": "b9eca58a",
   "metadata": {},
   "outputs": [],
   "source": [
    "class Fitness:\n",
    "    def __init__(self, route):\n",
    "        self.route = route\n",
    "        self.distance = None\n",
    "        self.fitness = None\n",
    "    \n",
    "    def routeDistance(self):\n",
    "        if self.distance == None:\n",
    "            pathDistance = 0.0\n",
    "            for i in range(0, len(self.route)):\n",
    "                fromCity = self.route[i]\n",
    "                toCity = None\n",
    "                if i+1 < len(self.route):\n",
    "                    toCity = self.route[i+1]\n",
    "                else:\n",
    "                    toCity = self.route[0]\n",
    "                pathDistance += fromCity.distance(toCity)\n",
    "            self.distance = pathDistance\n",
    "        return self.distance\n",
    "    \n",
    "    def routeFitness(self):\n",
    "        if self.fitness == None:\n",
    "        # Fitness function (Simple division) that uses a simple \n",
    "        # division that divides one by the distance of the path\n",
    "            self.fitness = 1 / float(self.routeDistance()) \n",
    "            # Note: You must ensure a division by zero does not occur \n",
    "        return self.fitness\n"
   ]
  },
  {
   "cell_type": "markdown",
   "id": "e9ecd81d",
   "metadata": {},
   "source": [
    "## Population Initialization  "
   ]
  },
  {
   "cell_type": "markdown",
   "id": "02544afb",
   "metadata": {},
   "source": [
    "The population initialization function (or method) performs random initialization. This creates an initial population with completely random chromosomes (or solutions). There are three functions related to population initialization. \n",
    "\n",
    "The first function is genCityList() which generates a set of cities from a file.  "
   ]
  },
  {
   "cell_type": "code",
   "execution_count": 37,
   "id": "9d39ed7e",
   "metadata": {},
   "outputs": [],
   "source": [
    "def genCityList(filename):\n",
    "    cityList = []\n",
    "    \n",
    "    # TODO 1 (10 marks) - Replace the following codes that generate 10 random cities.\n",
    "    # Your new implementation must read a set of cities from the filename to be used for creating \n",
    "    # an initial population.  \n",
    "    \n",
    "    # Marking scheme: \n",
    "    # 7 to 10 marks:  Correct implementation. \n",
    "    # 5 to <7 marks:  Minor errors with slight effects on the fitness value.\n",
    "    # >0 to <5 marks: Major errors with significant effects on the fitness value. \n",
    "    # 0 marks:        No answer is given. \n",
    "    \n",
    "    # Replacement starts here\n",
    "    \n",
    "    # Read cities from CSV file into a DataFrame\n",
    "    citiesDF = pd.read_csv(filename)\n",
    "\n",
    "    # Create a list of City objects from the X, Y columns\n",
    "    cityList = [City(X, Y) for _, X, Y in citiesDF.itertuples(index=False)]\n",
    "    \n",
    "    # Replacement ends here\n",
    "    \n",
    "    return cityList\n",
    "\n"
   ]
  },
  {
   "cell_type": "markdown",
   "id": "e4888778",
   "metadata": {},
   "source": [
    "The second function is createRoute() which generates a random route (chromosome) from a set of City instances."
   ]
  },
  {
   "cell_type": "code",
   "execution_count": 38,
   "id": "1f9ac614",
   "metadata": {},
   "outputs": [],
   "source": [
    "def createRoute(cityList):\n",
    "    route = random.sample(cityList, len(cityList))\n",
    "    return route"
   ]
  },
  {
   "cell_type": "markdown",
   "id": "f0c11bbb",
   "metadata": {},
   "source": [
    "The third function is initialPopulation() which calls the second function repeatedly to create an initial population (a list of routes)."
   ]
  },
  {
   "cell_type": "code",
   "execution_count": 39,
   "id": "4ae07df2",
   "metadata": {},
   "outputs": [],
   "source": [
    "def initialPopulation(popSize, cityList):\n",
    "    population = []\n",
    "    for i in range(0, popSize):\n",
    "        population.append(createRoute(cityList))\n",
    "    return population"
   ]
  },
  {
   "cell_type": "markdown",
   "id": "ed5c9a1d",
   "metadata": {},
   "source": [
    "You can run the above functions using the sample runs below. To do so, simply change the cell type from Markdown to Code.\n",
    "\n",
    "Sample run 1 initializes 10 cities in cityList as follows:"
   ]
  },
  {
   "cell_type": "markdown",
   "id": "dbce56f2",
   "metadata": {},
   "source": [
    "cityList = genCityList('cities10.txt') \n",
    "print(cityList)"
   ]
  },
  {
   "cell_type": "markdown",
   "id": "00b4e341",
   "metadata": {},
   "source": [
    "Sample run 2 initializes 10 cities in cityList and creates a population with three routes as follows:"
   ]
  },
  {
   "cell_type": "markdown",
   "id": "e7f8538a",
   "metadata": {},
   "source": [
    "cityList = genCityList('cities10.txt') \n",
    "population = initialPopulation(3, cityList) \n",
    "print(population)"
   ]
  },
  {
   "cell_type": "markdown",
   "id": "f8aac59f",
   "metadata": {},
   "source": [
    "## Selection"
   ]
  },
  {
   "cell_type": "markdown",
   "id": "cb5cfd2d",
   "metadata": {},
   "source": [
    "Parents selection selects chromosomes with high fitness values from a population. Survivor selection selects chromosomes with higher fitness values to form the population of the next generation. The population size is len(population), so we have len(population) in this population. "
   ]
  },
  {
   "cell_type": "markdown",
   "id": "91040238",
   "metadata": {},
   "source": [
    "### Parent Selection\n",
    "\n",
    "There are three implementations for parent selection. The first parentSelection() performs random selection."
   ]
  },
  {
   "cell_type": "code",
   "execution_count": 40,
   "id": "3add27f7",
   "metadata": {},
   "outputs": [],
   "source": [
    "def parentSelection(population, poolSize=None):\n",
    "    if poolSize == None:\n",
    "        poolSize = len(population)\n",
    "        \n",
    "    matingPool = []\n",
    "    \n",
    "    for i in range(0, poolSize):\n",
    "        fitness = Fitness(population[i]).routeFitness()\n",
    "        matingPool.append(random.choice(population))\n",
    "      \n",
    "    return matingPool"
   ]
  },
  {
   "cell_type": "markdown",
   "id": "7d7aedb6",
   "metadata": {},
   "source": [
    "The second parentSelection() performs Tournament Selection."
   ]
  },
  {
   "cell_type": "code",
   "execution_count": 51,
   "id": "53e6ed39",
   "metadata": {},
   "outputs": [],
   "source": [
    "def parentSelection(population, poolSize=None):\n",
    "\n",
    "    # TODO 2 (10 marks) - Replace the dummy parent selection function below with\n",
    "    # Tournament Selection.\n",
    "\n",
    "    # Marking scheme:\n",
    "    # 7 to 10 marks:  Correct implementation.\n",
    "    # 5 to <7 marks:  Minor errors.\n",
    "    # >0 to <5 marks: Major errors.\n",
    "    # 0 marks:        No answer is given.\n",
    "\n",
    "    # You will need to compare the performance achieved by Random Selection,\n",
    "    # Tournament Selection, and Proportional Selection during performance evaluation\n",
    "    # later. So, you will run either Random Selection, Tournament Selection, or\n",
    "    # Proportional Selection in a simulation run.\n",
    "\n",
    "    if poolSize == None:\n",
    "        poolSize = len(population)\n",
    "\n",
    "    matingPool = []\n",
    "\n",
    "    # Replacement starts here\n",
    "    # Perform tournament selection with fixed tournament size of 3\n",
    "    tournament_size = 3\n",
    "\n",
    "    # For each selection, randomly pick tournament_size individuals and select the best (highest fitness)\n",
    "    for _ in range(poolSize):\n",
    "        # randomly pick tournament_size individuals\n",
    "        routes = random.sample(population, tournament_size)\n",
    "\n",
    "        # select the best (highest fitness)\n",
    "        winner = max(routes, key=lambda route: Fitness(route).routeFitness())\n",
    "        matingPool.append(winner)\n",
    "    \n",
    "    # Replacement ends here\n",
    "\n",
    "    return matingPool"
   ]
  },
  {
   "cell_type": "markdown",
   "id": "4bb238e2",
   "metadata": {},
   "source": [
    "The third parentSelection() performs Proportional Selection."
   ]
  },
  {
   "cell_type": "code",
   "execution_count": 42,
   "id": "2ccaef4a",
   "metadata": {},
   "outputs": [],
   "source": [
    "def parentSelection(population, poolSize=None):\n",
    "    \n",
    "    # TODO 3 (10 marks) - Replace the dummy parent selection function below with  \n",
    "    # Proportional Selection.\n",
    "      \n",
    "    # Marking scheme: \n",
    "    # 7 to 10 marks:  Correct implementation. \n",
    "    # 5 to <7 marks:  Minor errors.\n",
    "    # >0 to <5 marks: Major errors. \n",
    "    # 0 marks:        No answer is given. \n",
    "    \n",
    "    # You will need to compare the performance achieved by Random Selection, \n",
    "    # Tournament Selection, and Proportional Selection during performance evaluation \n",
    "    # later. So, you will run either Random Selection, Tournament Selection, or \n",
    "    # Proportional Selection in a simulation run.\n",
    "    \n",
    "    if poolSize == None:\n",
    "        poolSize = len(population)\n",
    "        \n",
    "    matingPool = []\n",
    "    \n",
    "    # Replacement starts here\n",
    "\n",
    "    # Calculate total fitness of the population\n",
    "    total_fitness = sum([Fitness(route).routeFitness() for route in population])\n",
    "\n",
    "    # If total fitness is zero, select randomly to avoid division by zero\n",
    "    if (total_fitness == 0):\n",
    "        return random.choices(population, k=poolSize)\n",
    "    \n",
    "    # For each selection, pick a random number and select route based on cumulative fitness\n",
    "    for _ in range(poolSize):\n",
    "        # pick a random number\n",
    "        r = random.uniform(0, total_fitness)\n",
    "        \n",
    "        # select route based on cumulative fitness\n",
    "        cum_sum = 0\n",
    "        for i, route in enumerate(population):\n",
    "            cum_sum += Fitness(route).routeFitness()\n",
    "            if cum_sum >= r:\n",
    "                matingPool.append(route)\n",
    "                break\n",
    "    \n",
    "    # Replacement ends here\n",
    "    \n",
    "    return matingPool"
   ]
  },
  {
   "cell_type": "markdown",
   "id": "767df4e1",
   "metadata": {},
   "source": [
    "### Survival Selection"
   ]
  },
  {
   "cell_type": "code",
   "execution_count": 43,
   "id": "80f74e5a",
   "metadata": {},
   "outputs": [],
   "source": [
    "def survivorSelection(population, eliteSize):\n",
    "\n",
    "    # TODO 4 (10 marks) - Replace the dummy survival selection function below with\n",
    "    # Merge, Sort & Truncate.\n",
    "\n",
    "    # Marking scheme:\n",
    "    # 7 to 10 marks:  Correct implementation.\n",
    "    # 5 to <7 marks:  Minor errors.\n",
    "    # >0 to <5 marks: Major errors.\n",
    "    # 0 marks:        No answer is given.\n",
    "\n",
    "    elites = []\n",
    "\n",
    "    # Replacement starts here\n",
    "\n",
    "    # Sort population by fitness in descending order\n",
    "    sorted_population = sorted(population, key=lambda route: Fitness(route).routeFitness(), reverse=True)\n",
    "\n",
    "    # Select the top eliteSize individuals as elites\n",
    "    elites = sorted_population[:eliteSize]\n",
    "    \n",
    "    # Replacement ends here\n",
    "\n",
    "    return elites"
   ]
  },
  {
   "cell_type": "markdown",
   "id": "c003d631",
   "metadata": {},
   "source": [
    "You can run the above functions using the sample runs below. To do so, simply change the cell type from Markdown to Code. \n",
    "\n",
    "Sample run 1 initializes 10 cities in cityList, creates a population with four routes, and creates a pool of parents as follows:"
   ]
  },
  {
   "cell_type": "markdown",
   "id": "cb064cc7",
   "metadata": {},
   "source": [
    "population = initialPopulation(4, genCityList('cities10.txt'))\n",
    "matingpool = parentSelection(population, 4) \n",
    "print('Initial population') \n",
    "print(population) \n",
    "print('Mating pool') \n",
    "print(matingpool)"
   ]
  },
  {
   "cell_type": "markdown",
   "id": "c4431342",
   "metadata": {},
   "source": [
    "Sample run 2 initializes 10 cities in cityList, creates a population with four routes, select an elite chromosome as follows:"
   ]
  },
  {
   "cell_type": "markdown",
   "id": "d5a0593b",
   "metadata": {},
   "source": [
    "population = initialPopulation(4, genCityList('cities10.txt'))\n",
    "elites = survivorSelection(population, 1)\n",
    "print('Initial population')\n",
    "print(population)\n",
    "print('Selected elites')\n",
    "print(elites)"
   ]
  },
  {
   "cell_type": "code",
   "execution_count": 44,
   "id": "2bb0c8be",
   "metadata": {},
   "outputs": [],
   "source": [
    "def crossover(parent1, parent2):\n",
    "\n",
    "    # TODO 5 (10 marks) - Replace the dummy crossover function below with\n",
    "    # Partially Mapped Crossover approach.\n",
    "\n",
    "    # Marking scheme:\n",
    "    # 7 to 10 marks:  Correct implementation.\n",
    "    # 5 to <7 marks:  Minor errors.\n",
    "    # >0 to <5 marks: Major errors.\n",
    "    # 0 marks:        No answer is given.\n",
    "\n",
    "    # Replacement starts here\n",
    "    size = len(parent1)\n",
    "\n",
    "    # Initialize children\n",
    "    child1 = [None] * size\n",
    "    child2 = [None] * size\n",
    "\n",
    "    # Set crossover points\n",
    "    cx_point1 = 2\n",
    "    cx_point2 = 5\n",
    "\n",
    "    # Copy the crossover slice from parents to children\n",
    "    child1[cx_point1 : cx_point2] = parent1[cx_point1 : cx_point2]\n",
    "    child2[cx_point1 : cx_point2] = parent2[cx_point1 : cx_point2]\n",
    "\n",
    "    def fill_child(child, parent_a, parent_b):\n",
    "        # Fill the rest of the child with genes from parent_b\n",
    "        for i in (*range(0, cx_point1), *range(cx_point2, size)):\n",
    "            gene = parent_b[i]\n",
    "            \n",
    "            # Map genes to avoid duplicates based on the crossover segment in parent_a\n",
    "            while gene in parent_a[cx_point1:cx_point2]:\n",
    "                gene = parent_b[parent_a.index(gene)]\n",
    "            \n",
    "            child[i] = gene\n",
    "        return child\n",
    "\n",
    "    # Complete children by filling in remaining genes\n",
    "    child1 = fill_child(child1, parent1, parent2)\n",
    "    child2 = fill_child(child2, parent2, parent1)\n",
    "\n",
    "    # Replacement ends here\n",
    "\n",
    "    return child1, child2"
   ]
  },
  {
   "cell_type": "markdown",
   "id": "ebba82a2",
   "metadata": {},
   "source": [
    "## Crossover\n"
   ]
  },
  {
   "cell_type": "markdown",
   "id": "3c655d11",
   "metadata": {},
   "source": [
    "Crossover selects two parents, crossover the genetic materials of the parents, and produce one or more children. In the Travelling Salesman Problem, each travelling path must be valid. Each path consists all cities in the set, and each path visits each of the cities once only. So, none of the cities are visited more than once. Exchanging parts of two chromosomes tend to produce invalid paths. As an example, Parent 1 is [2 1 0 7 3 5 4 6] and Parent 2 is [6 1 0 5 2 3 4 7]. One point crossover at midpoint generates Child 1 [2 1 0 7 2 3 4 7] and Child 2 [6 1 0 5 3 5 4 6]. Both children are invalid paths.     "
   ]
  },
  {
   "cell_type": "markdown",
   "id": "48ca735c",
   "metadata": {},
   "source": [
    "Crossover selects two parents from the mating pool to produce a new generation of the same size."
   ]
  },
  {
   "cell_type": "code",
   "execution_count": 45,
   "id": "308e4680",
   "metadata": {},
   "outputs": [],
   "source": [
    "def breedPopulation(matingpool):\n",
    "    children = []\n",
    "    \n",
    "    # Choosing parents in their order of presence in the mating pool. Choosing parents\n",
    "    # in a random manner is possible. \n",
    "    \n",
    "    for i in range(1, len(matingpool), 2):\n",
    "        child1, child2 = crossover(matingpool[i-1], matingpool[i])\n",
    "        children.append(child1)\n",
    "        children.append(child2)\n",
    "    \n",
    "    return children"
   ]
  },
  {
   "cell_type": "markdown",
   "id": "2152fd9e",
   "metadata": {},
   "source": [
    "You can run the above functions using the sample run below. To do so, simply change the cell type from Markdown to Code. The sample run initializes 2 chromosomes in the population, and performs crossover among the two parents. "
   ]
  },
  {
   "cell_type": "markdown",
   "id": "7b02b58d",
   "metadata": {},
   "source": [
    "population = initialPopulation(2, genCityList('cities10.txt'))\n",
    "parent1, parent2 = population\n",
    "child1, child2 = crossover(parent1, parent2)\n",
    "print('Parents')\n",
    "print(parent1)\n",
    "print(parent2)\n",
    "print('Children')\n",
    "print(child1)\n",
    "print(child2)"
   ]
  },
  {
   "cell_type": "markdown",
   "id": "0508e984",
   "metadata": {},
   "source": [
    "## Mutation"
   ]
  },
  {
   "cell_type": "markdown",
   "id": "e741bcba",
   "metadata": {},
   "source": [
    "Mutation mutates a single chromosome to get a mutated chromosome so that genetic algorithm can converge to a shorter path quickly. In the Travelling Salesman Problem, a mutated chromosome must be a valid path. As an example, the insertion mutation randomly inserts a single gene in the [1 2 3 4 5 6 7 8 9 10] chromosome to generate the [1 2 4 5 6 7 3 8 9 10] mutated chromosome. Step 1: select a gene randomly, Step 2: insert this gene into a randomly selected location."
   ]
  },
  {
   "cell_type": "code",
   "execution_count": 46,
   "id": "fcc4c53b",
   "metadata": {},
   "outputs": [],
   "source": [
    "def mutate(route, mutationProbability):\n",
    "    \n",
    "    # TODO 6 (10 marks) - Replace the dummy mutation function below with Insertion Mutation.\n",
    "    # The dummy mutation function simply swaps a city with the city before it.  \n",
    "   \n",
    "    # Marking scheme: \n",
    "    # 7 to 10 marks:  Correct implementation. \n",
    "    # 5 to <7 marks:  Minor errors.\n",
    "    # >0 to <5 marks: Major errors. \n",
    "    # 0 marks:        No answer is given. \n",
    "     \n",
    "    mutated_route = route[:]\n",
    "    for i in range(len(route)):\n",
    "        if (random.random() < mutationProbability):\n",
    "            # mutationProbability is the probability of a gene undergoing mutation\n",
    "            \n",
    "            # Replacement starts here\n",
    "\n",
    "            # Remove the city at index i\n",
    "            city = mutated_route.pop(i)\n",
    "\n",
    "            # Re-insert it at a random position in the route\n",
    "            insert_index = random.randint(0, len(mutated_route))\n",
    "            mutated_route.insert(insert_index, city)\n",
    "            \n",
    "            # Replacement ends here\n",
    "    return mutated_route"
   ]
  },
  {
   "cell_type": "markdown",
   "id": "561658a7",
   "metadata": {},
   "source": [
    "Mutation runs over the entire population and mutates each chromosome in the population with a small mutationProbability. "
   ]
  },
  {
   "cell_type": "code",
   "execution_count": 47,
   "id": "18bcf873",
   "metadata": {},
   "outputs": [],
   "source": [
    "def mutation(population, mutationProbability):\n",
    "    mutatedPopulation = []\n",
    "    for i in range(0, len(population)):\n",
    "        mutatedIndividual = mutate(population[i], mutationProbability)\n",
    "        mutatedPopulation.append(mutatedIndividual)\n",
    "    return mutatedPopulation"
   ]
  },
  {
   "cell_type": "markdown",
   "id": "e2c7728f",
   "metadata": {},
   "source": [
    "You can run the above functions using the sample run below. To do so, simply change the cell type from Markdown to Code. The sample run initializes a route comprised of 10 cities in cityList, and then mutates it as follows:"
   ]
  },
  {
   "cell_type": "markdown",
   "id": "4b9fa051",
   "metadata": {},
   "source": [
    "route = genCityList('cities10.txt')\n",
    "mutated = mutate(route, 1)  # Give a pretty high chance for mutation\n",
    "print('Original route')\n",
    "print(route)\n",
    "print('Mutated route')\n",
    "print(mutated)"
   ]
  },
  {
   "cell_type": "markdown",
   "id": "1c0cf960",
   "metadata": {},
   "source": [
    "## Running One Generation (or Iteration)"
   ]
  },
  {
   "cell_type": "markdown",
   "id": "2e4e26f5",
   "metadata": {},
   "source": [
    "Here, we run one generation of genetic algorithm. "
   ]
  },
  {
   "cell_type": "code",
   "execution_count": 48,
   "id": "57f76661",
   "metadata": {},
   "outputs": [],
   "source": [
    "def oneGeneration(population, eliteSize, mutationProbability):\n",
    "    \n",
    "    # First we preserve the elites\n",
    "    elites = survivorSelection(population, eliteSize)\n",
    "    \n",
    "    # Then we calculate what our mating pool size should be and generate\n",
    "    # the mating pool\n",
    "    poolSize = len(population) - eliteSize\n",
    "    matingpool = parentSelection(population, poolSize)\n",
    "        \n",
    "    # Then we perform crossover on the mating pool\n",
    "    children = breedPopulation(matingpool)\n",
    "    \n",
    "    # We combine the elites and children into one population\n",
    "    new_population = elites + children\n",
    "    \n",
    "    # We mutate the population\n",
    "    mutated_population = mutation(new_population, mutationProbability)\n",
    "        \n",
    "    return mutated_population"
   ]
  },
  {
   "cell_type": "markdown",
   "id": "daa87ed8",
   "metadata": {},
   "source": [
    "You can run the above functions using the sample run below. To do so, simply change the cell type from Markdown to Code. The sample run initializes a population comprised of 5 chromosomes based on 10 cities in cityList, and then run one generation (or iteration) of genetic algorithm as follows:"
   ]
  },
  {
   "cell_type": "markdown",
   "id": "0f2a347b",
   "metadata": {},
   "source": [
    "population = initialPopulation(5, genCityList('cities10.txt'))\n",
    "eliteSize = 1\n",
    "mutationProbability = 0.01\n",
    "new_population = oneGeneration(population, eliteSize, mutationProbability)\n",
    "print('Initial population')\n",
    "print(population)\n",
    "print('New population')\n",
    "print(new_population)"
   ]
  },
  {
   "cell_type": "markdown",
   "id": "500893f7",
   "metadata": {},
   "source": [
    "## Running Many Generations (or Iterations) "
   ]
  },
  {
   "cell_type": "code",
   "execution_count": null,
   "id": "cc61b752",
   "metadata": {},
   "outputs": [
    {
     "name": "stdout",
     "output_type": "stream",
     "text": [
      "'Best distance for initial population: 20657.404923516035'\n",
      "'Best distance for population in iteration 0: 20593.71342701553'\n",
      "'Best distance for population in iteration 1: 20427.72560557271'\n",
      "'Best distance for population in iteration 2: 20281.07023040094'\n",
      "'Best distance for population in iteration 3: 20267.60260614407'\n",
      "'Best distance for population in iteration 4: 20364.094635203946'\n",
      "'Best distance for population in iteration 5: 20104.300957379015'\n",
      "'Best distance for population in iteration 6: 19996.79528715892'\n",
      "'Best distance for population in iteration 7: 19844.724364833637'\n",
      "'Best distance for population in iteration 8: 19866.837959421355'\n",
      "'Best distance for population in iteration 9: 19756.925771634003'\n",
      "'Best distance for population in iteration 10: 19667.360133377737'\n",
      "'Best distance for population in iteration 11: 19702.913116264746'\n",
      "'Best distance for population in iteration 12: 19690.955416785062'\n",
      "'Best distance for population in iteration 13: 19637.285242639868'\n",
      "'Best distance for population in iteration 14: 19429.70384835857'\n",
      "'Best distance for population in iteration 15: 19487.439833744815'\n",
      "'Best distance for population in iteration 16: 19435.941295695025'\n",
      "'Best distance for population in iteration 17: 19258.93951279547'\n",
      "'Best distance for population in iteration 18: 19205.409627690322'\n",
      "'Best distance for population in iteration 19: 19215.35582902321'\n",
      "'Best distance for population in iteration 20: 19119.48218684393'\n",
      "'Best distance for population in iteration 21: 19072.79138710018'\n",
      "'Best distance for population in iteration 22: 18997.110426131356'\n",
      "'Best distance for population in iteration 23: 18937.629396844797'\n",
      "'Best distance for population in iteration 24: 18921.870009046466'\n",
      "'Best distance for population in iteration 25: 18904.486733709622'\n",
      "'Best distance for population in iteration 26: 18815.998611100884'\n",
      "'Best distance for population in iteration 27: 18721.587794394978'\n",
      "'Best distance for population in iteration 28: 18730.25756896784'\n",
      "'Best distance for population in iteration 29: 18652.32372689735'\n",
      "'Best distance for population in iteration 30: 18599.022736494124'\n",
      "'Best distance for population in iteration 31: 18536.517029469942'\n",
      "'Best distance for population in iteration 32: 18457.90345026641'\n",
      "'Best distance for population in iteration 33: 18400.094106264536'\n",
      "'Best distance for population in iteration 34: 18372.102069235592'\n",
      "'Best distance for population in iteration 35: 18309.99521986338'\n",
      "'Best distance for population in iteration 36: 18346.064811041106'\n",
      "'Best distance for population in iteration 37: 18333.095963583597'\n",
      "'Best distance for population in iteration 38: 18191.8723860857'\n",
      "'Best distance for population in iteration 39: 18207.05272924983'\n",
      "'Best distance for population in iteration 40: 18240.545145322954'\n",
      "'Best distance for population in iteration 41: 18158.3206479761'\n",
      "'Best distance for population in iteration 42: 18005.200819491358'\n",
      "'Best distance for population in iteration 43: 17983.284507344833'\n",
      "'Best distance for population in iteration 44: 18042.93405164598'\n",
      "'Best distance for population in iteration 45: 18080.44850085792'\n",
      "'Best distance for population in iteration 46: 18047.860893048746'\n",
      "'Best distance for population in iteration 47: 18077.12739961298'\n",
      "'Best distance for population in iteration 48: 17951.92386444895'\n",
      "'Best distance for population in iteration 49: 17951.92386444895'\n",
      "'Best distance for population in iteration 50: 17927.67165757528'\n",
      "'Best distance for population in iteration 51: 17952.364772916448'\n",
      "'Best distance for population in iteration 52: 17869.19913851993'\n",
      "'Best distance for population in iteration 53: 17953.679828879278'\n",
      "'Best distance for population in iteration 54: 17928.460264585494'\n",
      "'Best distance for population in iteration 55: 17762.43526194554'\n",
      "'Best distance for population in iteration 56: 17866.707923139656'\n",
      "'Best distance for population in iteration 57: 17688.121095930383'\n",
      "'Best distance for population in iteration 58: 17773.590153828016'\n",
      "'Best distance for population in iteration 59: 17757.128394199473'\n",
      "'Best distance for population in iteration 60: 17686.804444227877'\n",
      "'Best distance for population in iteration 61: 17721.610505499564'\n",
      "'Best distance for population in iteration 62: 17644.383538907943'\n",
      "'Best distance for population in iteration 63: 17659.61449649633'\n",
      "'Best distance for population in iteration 64: 17685.36160137163'\n",
      "'Best distance for population in iteration 65: 17674.493728287078'\n",
      "'Best distance for population in iteration 66: 17637.743624833092'\n",
      "'Best distance for population in iteration 67: 17602.545814881905'\n",
      "'Best distance for population in iteration 68: 17683.25361215176'\n",
      "'Best distance for population in iteration 69: 17708.52959447252'\n",
      "'Best distance for population in iteration 70: 17674.53733235988'\n",
      "'Best distance for population in iteration 71: 17625.179467843358'\n",
      "'Best distance for population in iteration 72: 17454.36913460317'\n",
      "'Best distance for population in iteration 73: 17488.970501819942'\n",
      "'Best distance for population in iteration 74: 17395.381067223043'\n",
      "'Best distance for population in iteration 75: 17401.835842743614'\n",
      "'Best distance for population in iteration 76: 17348.43554436725'\n",
      "'Best distance for population in iteration 77: 17378.768418369695'\n",
      "'Best distance for population in iteration 78: 17265.114636423234'\n",
      "'Best distance for population in iteration 79: 17166.54484373694'\n",
      "'Best distance for population in iteration 80: 17158.104986067065'\n",
      "'Best distance for population in iteration 81: 17172.430016133614'\n",
      "'Best distance for population in iteration 82: 17178.722669151128'\n",
      "'Best distance for population in iteration 83: 17199.37914843586'\n",
      "'Best distance for population in iteration 84: 17070.405874346467'\n",
      "'Best distance for population in iteration 85: 17105.97604053071'\n",
      "'Best distance for population in iteration 86: 17157.571345294964'\n",
      "'Best distance for population in iteration 87: 17120.92284122787'\n",
      "'Best distance for population in iteration 88: 17070.4664512322'\n",
      "'Best distance for population in iteration 89: 17170.584151492185'\n",
      "'Best distance for population in iteration 90: 17147.979702865076'\n",
      "'Best distance for population in iteration 91: 17105.74023595055'\n",
      "'Best distance for population in iteration 92: 17002.708323058556'\n",
      "'Best distance for population in iteration 93: 16904.448612701544'\n",
      "'Best distance for population in iteration 94: 16989.81399143999'\n",
      "'Best distance for population in iteration 95: 16978.67418995167'\n",
      "'Best distance for population in iteration 96: 16987.505198289527'\n",
      "'Best distance for population in iteration 97: 17020.845951200845'\n",
      "'Best distance for population in iteration 98: 17038.917060183627'\n",
      "'Best distance for population in iteration 99: 17107.329056610808'\n",
      "('Optimal path is [(13,69), (7,100), (74,91), (62,91), (83,96), (41,49), '\n",
      " '(74,67), (61,97), (79,88), (80,46), (39,41), (48,7), (31,68), (64,57), '\n",
      " '(95,36), (49,54), (44,86), (52,92), (59,76), (7,93), (36,63), (6,61), '\n",
      " '(98,73), (91,57), (78,22), (2,100), (1,58), (19,44), (95,60), (12,43), '\n",
      " '(14,23), (4,15), (2,15), (63,89), (60,43), (53,37), (32,75), (68,60), '\n",
      " '(56,89), (52,77), (25,63), (21,44), (50,81), (46,68), (29,27), (18,89), '\n",
      " '(16,57), (41,85), (14,66), (43,94), (34,68), (59,41), (57,35), (86,0), '\n",
      " '(86,11), (78,83), (87,85), (50,32), (43,59), (20,79), (61,86), (62,62), '\n",
      " '(88,36), (88,74), (32,19), (7,67), (13,20), (31,82), (63,23), (84,12), '\n",
      " '(89,1), (20,21), (61,28), (50,0), (58,74), (35,98), (23,60), (27,45), '\n",
      " '(45,29), (35,42), (88,51), (38,57), (33,54), (28,92), (87,68), (82,26), '\n",
      " '(0,69), (27,25), (47,18), (71,38), (87,11), (91,48), (70,50), (21,38), '\n",
      " '(100,66), (88,15), (98,2), (71,0), (59,3), (2,61), (0,26), (15,88), (88,62), '\n",
      " '(91,75), (72,84), (75,56), (70,59), (24,61), (36,53), (52,72), (88,76), '\n",
      " '(6,47), (29,98), (1,100), (36,98), (3,100), (10,52), (93,64), (31,28), '\n",
      " '(90,7), (93,11), (96,73), (20,65), (63,50), (61,48), (98,16), (40,44), '\n",
      " '(80,85), (18,70), (23,19), (34,95), (58,12), (79,38), (66,73), (98,95), '\n",
      " '(66,81), (92,62), (85,94), (32,57), (5,7), (23,23), (57,22), (80,46), '\n",
      " '(19,74), (31,95), (30,7), (53,18), (70,12), (99,8), (98,91), (20,74), '\n",
      " '(58,13), (89,53), (96,57), (91,49), (89,91), (32,5), (61,9), (8,100), '\n",
      " '(18,7), (2,24), (11,18), (29,14), (61,80), (44,75), (26,20), (1,51), (1,24), '\n",
      " '(48,64), (79,57), (43,51), (53,12), (66,55), (53,91), (37,30), (26,63), '\n",
      " '(96,71), (98,83), (95,42), (89,51), (92,91), (98,99), (69,72), (55,88), '\n",
      " '(10,68), (94,24), (61,6), (71,71), (86,34), (95,18), (50,62), (8,90), '\n",
      " '(16,18), (53,65), (29,33), (62,28), (61,100), (2,47), (19,92), (77,57), '\n",
      " '(33,32), (26,31), (53,53), (92,34), (95,6), (1,35), (45,100), (23,26), '\n",
      " '(32,46), (90,9), (68,75), (60,22), (58,61), (54,11), (32,39), (0,56), '\n",
      " '(51,12), (52,15), (43,57), (86,1), (72,38), (54,85), (85,38), (43,4), '\n",
      " '(14,11), (15,41), (97,56), (92,62), (13,91), (2,86), (22,82), (59,68), '\n",
      " '(53,99), (16,84), (11,98), (81,55), (3,39), (7,28), (55,51), (8,14), '\n",
      " '(97,15), (69,56), (87,77), (98,33), (71,85), (52,59), (94,22), (71,23), '\n",
      " '(76,9), (89,11), (88,19), (5,15), (0,88), (1,18), (99,89), (34,5), (100,0), '\n",
      " '(38,29), (0,23), (96,75), (61,35), (51,54), (84,47), (92,31), (65,1), '\n",
      " '(76,34), (69,15), (96,35), (91,4), (96,91), (77,93), (67,98), (5,40), '\n",
      " '(32,6), (61,12), (81,0), (79,14), (87,32), (77,3), (21,13), (29,11), (3,48), '\n",
      " '(17,18), (92,16), (96,35), (74,24), (41,34), (31,38), (4,79), (8,98), '\n",
      " '(14,46), (73,89), (100,83), (100,60), (19,16), (26,15), (99,31), (61,65), '\n",
      " '(23,42), (34,18), (22,22), (37,49), (6,35), (47,8), (7,2), (24,46), (40,21), '\n",
      " '(47,30), (38,8), (41,13), (60,23), (72,57), (39,95), (18,75), (20,59), '\n",
      " '(85,48), (51,88), (63,15), (35,60), (14,32), (27,95), (69,94), (37,38), '\n",
      " '(100,57), (61,33), (83,0), (65,32), (47,27), (51,23), (32,44), (43,73), '\n",
      " '(36,99), (47,56), (51,50), (67,60), (1,27), (59,86), (40,89), (49,37), '\n",
      " '(37,99), (2,66), (32,93), (47,84), (11,99), (23,12), (17,68), (64,25), '\n",
      " '(57,9), (56,28), (23,52), (1,41), (17,85), (34,35), (3,29), (31,45), '\n",
      " '(43,95), (27,89), (68,22), (59,12), (91,7), (58,11), (42,39), (27,92), '\n",
      " '(66,98), (6,70), (13,61), (17,24), (79,4), (62,32), (46,5), (89,8), (81,49), '\n",
      " '(87,25), (22,64), (58,46), (0,8), (46,31), (10,65), (50,62), (34,61), '\n",
      " '(70,45), (28,73), (26,86), (14,91), (85,94), (75,17), (74,16), (59,52), '\n",
      " '(94,32), (83,89), (74,89), (89,44), (58,15), (45,16), (35,17), (18,57), '\n",
      " '(1,16), (8,90), (47,100), (3,91)]')\n"
     ]
    }
   ],
   "source": [
    "filename = 'cities400.txt'\n",
    "popSize = 20\n",
    "eliteSize = 5\n",
    "mutationProbability = 0.01\n",
    "iteration_limit = 100\n",
    "\n",
    "cityList = genCityList(filename)\n",
    "\n",
    "population = initialPopulation(popSize, cityList)\n",
    "distances = [Fitness(p).routeDistance() for p in population]\n",
    "min_dist = min(distances)\n",
    "print(\"Best distance for initial population: \" + str(min_dist))\n",
    "\n",
    "for i in range(iteration_limit):\n",
    "    population = oneGeneration(population, eliteSize, mutationProbability)\n",
    "    distances = [Fitness(p).routeDistance() for p in population]\n",
    "    index = np.argmin(distances)\n",
    "    best_route = population[index]\n",
    "    min_dist = min(distances)\n",
    "    print(\"Best distance for population in iteration \" + str(i) +\n",
    "          \": \" + str(min_dist))\n",
    "\n",
    "print(\"Optimal path is \" + str(best_route)) \n",
    "\n",
    "    # TODO 7 (10 marks) - Performance Evaluation. You will present the performance achieved \n",
    "    # by different parent selection function. You will compare the \n",
    "    # performance achieved by Random Selection, Tournament Selection, and Proportional Selection. \n",
    "   \n",
    "    # Marking scheme: \n",
    "    # 7 to 10 marks:  In-depth performance evaluation. Optimal routes are found. \n",
    "    # 5 to <7 marks:  Clear understanding of performance evaluation.\n",
    "    # >0 to <5 marks: Inaccurate or unclear understanding of performance evaluation. \n",
    "    # 0 marks:        No answer is given. \n",
    "    \n",
    "    # Ask: Can rename parent selection functions?\n",
    "    # Do the performance evaluation in code or ?\n",
    "    # Find the best distance out of the parent selections (in graphs and conclusion)\n",
    "    # Graph distance (y-axis) against iterations (x-axis)\n",
    "\n",
    "    # Cas: Explanation of new codes in TODO 1-6 + Conclusion (evaluate relative performance and effectiveness of the functions + Report on best distance)\n",
    "    # Jee See: Random selection results and analysis\n",
    "    # Person 2: Tournament selection results and analysis\n",
    "    # Person 3: Proportional selection results and analysis\n",
    "  "
   ]
  },
  {
   "cell_type": "code",
   "execution_count": null,
   "id": "ec332861",
   "metadata": {},
   "outputs": [],
   "source": []
  }
 ],
 "metadata": {
  "kernelspec": {
   "display_name": "base",
   "language": "python",
   "name": "python3"
  },
  "language_info": {
   "codemirror_mode": {
    "name": "ipython",
    "version": 3
   },
   "file_extension": ".py",
   "mimetype": "text/x-python",
   "name": "python",
   "nbconvert_exporter": "python",
   "pygments_lexer": "ipython3",
   "version": "3.12.7"
  }
 },
 "nbformat": 4,
 "nbformat_minor": 5
}
